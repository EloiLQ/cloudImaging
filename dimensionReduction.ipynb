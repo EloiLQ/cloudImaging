{
 "cells": [
  {
   "cell_type": "markdown",
   "metadata": {
    "application/vnd.databricks.v1+cell": {
     "inputWidgets": {},
     "nuid": "07dbf935-d873-4c2b-acd3-0e5da9f97a9c",
     "showTitle": false,
     "title": ""
    }
   },
   "source": [
    "# Prétraitement des Images de Fruits\n",
    "\n",
    "L'entreprise *Fruits!* souhaite créer une application de  reconnaissance de fruits. Il met à disposition un [jeu de données d'images](https://www.kaggle.com/moltean/fruits) de fruits pour entraîner un modèle. On effectue dans ce notebook l'étape de prétraitement des images. Cette étape se décompose en deux parties : \n",
    "- une featurisation des images,\n",
    "- une réduction de dimensions de l'espace de plongement.\n",
    "\n",
    "La featurisation des images est effectuée avec le réseau de neuronnes convolutif (CNN) pré-entrainé Resnet50, développé par TensorFlow. La réduction des images est effectuée avec l'algorithme PCA.\n",
    "\n",
    "Le code est écrit en Pyspark et est exécuté sur DataBricks. On utilse les ressources AWS EC2 et S3 pour effectuer cette tâche."
   ]
  },
  {
   "cell_type": "code",
   "execution_count": 0,
   "metadata": {
    "application/vnd.databricks.v1+cell": {
     "inputWidgets": {},
     "nuid": "bfda7ff5-a1d5-4c5f-b246-c5a1bdd53ca2",
     "showTitle": false,
     "title": ""
    }
   },
   "outputs": [
    {
     "data": {
      "text/html": [
       "<style scoped>\n",
       "  .table-result-container {\n",
       "    max-height: 300px;\n",
       "    overflow: auto;\n",
       "  }\n",
       "  table, th, td {\n",
       "    border: 1px solid black;\n",
       "    border-collapse: collapse;\n",
       "  }\n",
       "  th, td {\n",
       "    padding: 5px;\n",
       "  }\n",
       "  th {\n",
       "    text-align: left;\n",
       "  }\n",
       "</style><div class='table-result-container'><table class='table-result'><thead style='background-color: white'><tr><th>path</th><th>name</th><th>size</th></tr></thead><tbody><tr><td>dbfs:/mnt/fruit-360/test-compute/apple_6/</td><td>apple_6/</td><td>0</td></tr><tr><td>dbfs:/mnt/fruit-360/test-compute/apple_braeburn_1/</td><td>apple_braeburn_1/</td><td>0</td></tr><tr><td>dbfs:/mnt/fruit-360/test-compute/apple_crimson_snow_1/</td><td>apple_crimson_snow_1/</td><td>0</td></tr><tr><td>dbfs:/mnt/fruit-360/test-compute/apple_golden_1/</td><td>apple_golden_1/</td><td>0</td></tr><tr><td>dbfs:/mnt/fruit-360/test-compute/apple_golden_2/</td><td>apple_golden_2/</td><td>0</td></tr><tr><td>dbfs:/mnt/fruit-360/test-compute/apple_golden_3/</td><td>apple_golden_3/</td><td>0</td></tr><tr><td>dbfs:/mnt/fruit-360/test-compute/apple_granny_smith_1/</td><td>apple_granny_smith_1/</td><td>0</td></tr><tr><td>dbfs:/mnt/fruit-360/test-compute/apple_hit_1/</td><td>apple_hit_1/</td><td>0</td></tr><tr><td>dbfs:/mnt/fruit-360/test-compute/apple_pink_lady_1/</td><td>apple_pink_lady_1/</td><td>0</td></tr><tr><td>dbfs:/mnt/fruit-360/test-compute/apple_red_1/</td><td>apple_red_1/</td><td>0</td></tr><tr><td>dbfs:/mnt/fruit-360/test-compute/apple_red_2/</td><td>apple_red_2/</td><td>0</td></tr><tr><td>dbfs:/mnt/fruit-360/test-compute/apple_red_3/</td><td>apple_red_3/</td><td>0</td></tr><tr><td>dbfs:/mnt/fruit-360/test-compute/apple_red_delicios_1/</td><td>apple_red_delicios_1/</td><td>0</td></tr><tr><td>dbfs:/mnt/fruit-360/test-compute/apple_red_yellow_1/</td><td>apple_red_yellow_1/</td><td>0</td></tr><tr><td>dbfs:/mnt/fruit-360/test-compute/apple_rotten_1/</td><td>apple_rotten_1/</td><td>0</td></tr><tr><td>dbfs:/mnt/fruit-360/test-compute/cabbage_white_1/</td><td>cabbage_white_1/</td><td>0</td></tr><tr><td>dbfs:/mnt/fruit-360/test-compute/carrot_1/</td><td>carrot_1/</td><td>0</td></tr><tr><td>dbfs:/mnt/fruit-360/test-compute/cucumber_1/</td><td>cucumber_1/</td><td>0</td></tr><tr><td>dbfs:/mnt/fruit-360/test-compute/cucumber_3/</td><td>cucumber_3/</td><td>0</td></tr><tr><td>dbfs:/mnt/fruit-360/test-compute/eggplant_violet_1/</td><td>eggplant_violet_1/</td><td>0</td></tr><tr><td>dbfs:/mnt/fruit-360/test-compute/pear_3/</td><td>pear_3/</td><td>0</td></tr><tr><td>dbfs:/mnt/fruit-360/test-compute/zucchini_1/</td><td>zucchini_1/</td><td>0</td></tr><tr><td>dbfs:/mnt/fruit-360/test-compute/zucchini_dark_1/</td><td>zucchini_dark_1/</td><td>0</td></tr></tbody></table></div>"
      ]
     },
     "metadata": {
      "application/vnd.databricks.v1+output": {
       "addedWidgets": {},
       "aggData": [],
       "aggError": "",
       "aggOverflow": false,
       "aggSchema": [],
       "aggSeriesLimitReached": false,
       "aggType": "",
       "arguments": {},
       "columnCustomDisplayInfos": {},
       "data": [
        [
         "dbfs:/mnt/fruit-360/test-compute/apple_6/",
         "apple_6/",
         0
        ],
        [
         "dbfs:/mnt/fruit-360/test-compute/apple_braeburn_1/",
         "apple_braeburn_1/",
         0
        ],
        [
         "dbfs:/mnt/fruit-360/test-compute/apple_crimson_snow_1/",
         "apple_crimson_snow_1/",
         0
        ],
        [
         "dbfs:/mnt/fruit-360/test-compute/apple_golden_1/",
         "apple_golden_1/",
         0
        ],
        [
         "dbfs:/mnt/fruit-360/test-compute/apple_golden_2/",
         "apple_golden_2/",
         0
        ],
        [
         "dbfs:/mnt/fruit-360/test-compute/apple_golden_3/",
         "apple_golden_3/",
         0
        ],
        [
         "dbfs:/mnt/fruit-360/test-compute/apple_granny_smith_1/",
         "apple_granny_smith_1/",
         0
        ],
        [
         "dbfs:/mnt/fruit-360/test-compute/apple_hit_1/",
         "apple_hit_1/",
         0
        ],
        [
         "dbfs:/mnt/fruit-360/test-compute/apple_pink_lady_1/",
         "apple_pink_lady_1/",
         0
        ],
        [
         "dbfs:/mnt/fruit-360/test-compute/apple_red_1/",
         "apple_red_1/",
         0
        ],
        [
         "dbfs:/mnt/fruit-360/test-compute/apple_red_2/",
         "apple_red_2/",
         0
        ],
        [
         "dbfs:/mnt/fruit-360/test-compute/apple_red_3/",
         "apple_red_3/",
         0
        ],
        [
         "dbfs:/mnt/fruit-360/test-compute/apple_red_delicios_1/",
         "apple_red_delicios_1/",
         0
        ],
        [
         "dbfs:/mnt/fruit-360/test-compute/apple_red_yellow_1/",
         "apple_red_yellow_1/",
         0
        ],
        [
         "dbfs:/mnt/fruit-360/test-compute/apple_rotten_1/",
         "apple_rotten_1/",
         0
        ],
        [
         "dbfs:/mnt/fruit-360/test-compute/cabbage_white_1/",
         "cabbage_white_1/",
         0
        ],
        [
         "dbfs:/mnt/fruit-360/test-compute/carrot_1/",
         "carrot_1/",
         0
        ],
        [
         "dbfs:/mnt/fruit-360/test-compute/cucumber_1/",
         "cucumber_1/",
         0
        ],
        [
         "dbfs:/mnt/fruit-360/test-compute/cucumber_3/",
         "cucumber_3/",
         0
        ],
        [
         "dbfs:/mnt/fruit-360/test-compute/eggplant_violet_1/",
         "eggplant_violet_1/",
         0
        ],
        [
         "dbfs:/mnt/fruit-360/test-compute/pear_3/",
         "pear_3/",
         0
        ],
        [
         "dbfs:/mnt/fruit-360/test-compute/zucchini_1/",
         "zucchini_1/",
         0
        ],
        [
         "dbfs:/mnt/fruit-360/test-compute/zucchini_dark_1/",
         "zucchini_dark_1/",
         0
        ]
       ],
       "datasetInfos": [],
       "dbfsResultPath": null,
       "isJsonSchema": true,
       "metadata": {},
       "overflow": false,
       "plotOptions": {
        "customPlotOptions": {},
        "displayType": "table",
        "pivotAggregation": null,
        "pivotColumns": null,
        "xColumns": null,
        "yColumns": null
       },
       "removedWidgets": [],
       "schema": [
        {
         "metadata": "{}",
         "name": "path",
         "type": "\"string\""
        },
        {
         "metadata": "{}",
         "name": "name",
         "type": "\"string\""
        },
        {
         "metadata": "{}",
         "name": "size",
         "type": "\"long\""
        }
       ],
       "type": "table"
      }
     },
     "output_type": "display_data"
    }
   ],
   "source": [
    "# synchronisation S3 et DBFS\n",
    "mount_name = \"fruit-360/test-compute\"\n",
    "display(dbutils.fs.ls(\"/mnt/%s\" % mount_name))"
   ]
  },
  {
   "cell_type": "markdown",
   "metadata": {},
   "source": [
    "*Ensemble des dossiers des contenant les images d'un type de fruit*."
   ]
  },
  {
   "cell_type": "code",
   "execution_count": 0,
   "metadata": {
    "application/vnd.databricks.v1+cell": {
     "inputWidgets": {},
     "nuid": "d223725d-364b-49c3-89a4-ca21c662c819",
     "showTitle": false,
     "title": ""
    }
   },
   "outputs": [
    {
     "data": {
      "text/html": [
       "<style scoped>\n",
       "  .ansiout {\n",
       "    display: block;\n",
       "    unicode-bidi: embed;\n",
       "    white-space: pre-wrap;\n",
       "    word-wrap: break-word;\n",
       "    word-break: break-all;\n",
       "    font-family: \"Source Code Pro\", \"Menlo\", monospace;;\n",
       "    font-size: 13px;\n",
       "    color: #555;\n",
       "    margin-left: 4px;\n",
       "    line-height: 19px;\n",
       "  }\n",
       "</style>\n",
       "<div class=\"ansiout\">Out[2]: [FileInfo(path=&#39;dbfs:/mnt/fruit-360/test-compute/apple_6/&#39;, name=&#39;apple_6/&#39;, size=0),\n",
       " FileInfo(path=&#39;dbfs:/mnt/fruit-360/test-compute/apple_braeburn_1/&#39;, name=&#39;apple_braeburn_1/&#39;, size=0),\n",
       " FileInfo(path=&#39;dbfs:/mnt/fruit-360/test-compute/apple_crimson_snow_1/&#39;, name=&#39;apple_crimson_snow_1/&#39;, size=0),\n",
       " FileInfo(path=&#39;dbfs:/mnt/fruit-360/test-compute/apple_golden_1/&#39;, name=&#39;apple_golden_1/&#39;, size=0),\n",
       " FileInfo(path=&#39;dbfs:/mnt/fruit-360/test-compute/apple_golden_2/&#39;, name=&#39;apple_golden_2/&#39;, size=0),\n",
       " FileInfo(path=&#39;dbfs:/mnt/fruit-360/test-compute/apple_golden_3/&#39;, name=&#39;apple_golden_3/&#39;, size=0),\n",
       " FileInfo(path=&#39;dbfs:/mnt/fruit-360/test-compute/apple_granny_smith_1/&#39;, name=&#39;apple_granny_smith_1/&#39;, size=0),\n",
       " FileInfo(path=&#39;dbfs:/mnt/fruit-360/test-compute/apple_hit_1/&#39;, name=&#39;apple_hit_1/&#39;, size=0),\n",
       " FileInfo(path=&#39;dbfs:/mnt/fruit-360/test-compute/apple_pink_lady_1/&#39;, name=&#39;apple_pink_lady_1/&#39;, size=0),\n",
       " FileInfo(path=&#39;dbfs:/mnt/fruit-360/test-compute/apple_red_1/&#39;, name=&#39;apple_red_1/&#39;, size=0),\n",
       " FileInfo(path=&#39;dbfs:/mnt/fruit-360/test-compute/apple_red_2/&#39;, name=&#39;apple_red_2/&#39;, size=0),\n",
       " FileInfo(path=&#39;dbfs:/mnt/fruit-360/test-compute/apple_red_3/&#39;, name=&#39;apple_red_3/&#39;, size=0),\n",
       " FileInfo(path=&#39;dbfs:/mnt/fruit-360/test-compute/apple_red_delicios_1/&#39;, name=&#39;apple_red_delicios_1/&#39;, size=0),\n",
       " FileInfo(path=&#39;dbfs:/mnt/fruit-360/test-compute/apple_red_yellow_1/&#39;, name=&#39;apple_red_yellow_1/&#39;, size=0),\n",
       " FileInfo(path=&#39;dbfs:/mnt/fruit-360/test-compute/apple_rotten_1/&#39;, name=&#39;apple_rotten_1/&#39;, size=0),\n",
       " FileInfo(path=&#39;dbfs:/mnt/fruit-360/test-compute/cabbage_white_1/&#39;, name=&#39;cabbage_white_1/&#39;, size=0),\n",
       " FileInfo(path=&#39;dbfs:/mnt/fruit-360/test-compute/carrot_1/&#39;, name=&#39;carrot_1/&#39;, size=0),\n",
       " FileInfo(path=&#39;dbfs:/mnt/fruit-360/test-compute/cucumber_1/&#39;, name=&#39;cucumber_1/&#39;, size=0),\n",
       " FileInfo(path=&#39;dbfs:/mnt/fruit-360/test-compute/cucumber_3/&#39;, name=&#39;cucumber_3/&#39;, size=0),\n",
       " FileInfo(path=&#39;dbfs:/mnt/fruit-360/test-compute/eggplant_violet_1/&#39;, name=&#39;eggplant_violet_1/&#39;, size=0),\n",
       " FileInfo(path=&#39;dbfs:/mnt/fruit-360/test-compute/pear_3/&#39;, name=&#39;pear_3/&#39;, size=0),\n",
       " FileInfo(path=&#39;dbfs:/mnt/fruit-360/test-compute/zucchini_1/&#39;, name=&#39;zucchini_1/&#39;, size=0),\n",
       " FileInfo(path=&#39;dbfs:/mnt/fruit-360/test-compute/zucchini_dark_1/&#39;, name=&#39;zucchini_dark_1/&#39;, size=0)]</div>"
      ]
     },
     "metadata": {
      "application/vnd.databricks.v1+output": {
       "addedWidgets": {},
       "arguments": {},
       "data": "<div class=\"ansiout\">Out[2]: [FileInfo(path=&#39;dbfs:/mnt/fruit-360/test-compute/apple_6/&#39;, name=&#39;apple_6/&#39;, size=0),\n FileInfo(path=&#39;dbfs:/mnt/fruit-360/test-compute/apple_braeburn_1/&#39;, name=&#39;apple_braeburn_1/&#39;, size=0),\n FileInfo(path=&#39;dbfs:/mnt/fruit-360/test-compute/apple_crimson_snow_1/&#39;, name=&#39;apple_crimson_snow_1/&#39;, size=0),\n FileInfo(path=&#39;dbfs:/mnt/fruit-360/test-compute/apple_golden_1/&#39;, name=&#39;apple_golden_1/&#39;, size=0),\n FileInfo(path=&#39;dbfs:/mnt/fruit-360/test-compute/apple_golden_2/&#39;, name=&#39;apple_golden_2/&#39;, size=0),\n FileInfo(path=&#39;dbfs:/mnt/fruit-360/test-compute/apple_golden_3/&#39;, name=&#39;apple_golden_3/&#39;, size=0),\n FileInfo(path=&#39;dbfs:/mnt/fruit-360/test-compute/apple_granny_smith_1/&#39;, name=&#39;apple_granny_smith_1/&#39;, size=0),\n FileInfo(path=&#39;dbfs:/mnt/fruit-360/test-compute/apple_hit_1/&#39;, name=&#39;apple_hit_1/&#39;, size=0),\n FileInfo(path=&#39;dbfs:/mnt/fruit-360/test-compute/apple_pink_lady_1/&#39;, name=&#39;apple_pink_lady_1/&#39;, size=0),\n FileInfo(path=&#39;dbfs:/mnt/fruit-360/test-compute/apple_red_1/&#39;, name=&#39;apple_red_1/&#39;, size=0),\n FileInfo(path=&#39;dbfs:/mnt/fruit-360/test-compute/apple_red_2/&#39;, name=&#39;apple_red_2/&#39;, size=0),\n FileInfo(path=&#39;dbfs:/mnt/fruit-360/test-compute/apple_red_3/&#39;, name=&#39;apple_red_3/&#39;, size=0),\n FileInfo(path=&#39;dbfs:/mnt/fruit-360/test-compute/apple_red_delicios_1/&#39;, name=&#39;apple_red_delicios_1/&#39;, size=0),\n FileInfo(path=&#39;dbfs:/mnt/fruit-360/test-compute/apple_red_yellow_1/&#39;, name=&#39;apple_red_yellow_1/&#39;, size=0),\n FileInfo(path=&#39;dbfs:/mnt/fruit-360/test-compute/apple_rotten_1/&#39;, name=&#39;apple_rotten_1/&#39;, size=0),\n FileInfo(path=&#39;dbfs:/mnt/fruit-360/test-compute/cabbage_white_1/&#39;, name=&#39;cabbage_white_1/&#39;, size=0),\n FileInfo(path=&#39;dbfs:/mnt/fruit-360/test-compute/carrot_1/&#39;, name=&#39;carrot_1/&#39;, size=0),\n FileInfo(path=&#39;dbfs:/mnt/fruit-360/test-compute/cucumber_1/&#39;, name=&#39;cucumber_1/&#39;, size=0),\n FileInfo(path=&#39;dbfs:/mnt/fruit-360/test-compute/cucumber_3/&#39;, name=&#39;cucumber_3/&#39;, size=0),\n FileInfo(path=&#39;dbfs:/mnt/fruit-360/test-compute/eggplant_violet_1/&#39;, name=&#39;eggplant_violet_1/&#39;, size=0),\n FileInfo(path=&#39;dbfs:/mnt/fruit-360/test-compute/pear_3/&#39;, name=&#39;pear_3/&#39;, size=0),\n FileInfo(path=&#39;dbfs:/mnt/fruit-360/test-compute/zucchini_1/&#39;, name=&#39;zucchini_1/&#39;, size=0),\n FileInfo(path=&#39;dbfs:/mnt/fruit-360/test-compute/zucchini_dark_1/&#39;, name=&#39;zucchini_dark_1/&#39;, size=0)]</div>",
       "datasetInfos": [],
       "metadata": {},
       "removedWidgets": [],
       "type": "html"
      }
     },
     "output_type": "display_data"
    }
   ],
   "source": [
    "dbutils.fs.ls(\"/mnt/%s\" % mount_name)"
   ]
  },
  {
   "cell_type": "code",
   "execution_count": 0,
   "metadata": {
    "application/vnd.databricks.v1+cell": {
     "inputWidgets": {},
     "nuid": "d67e3b11-0058-4bdc-abe1-306da87172f0",
     "showTitle": false,
     "title": ""
    }
   },
   "outputs": [
    {
     "data": {
      "text/html": [
       "<style scoped>\n",
       "  .ansiout {\n",
       "    display: block;\n",
       "    unicode-bidi: embed;\n",
       "    white-space: pre-wrap;\n",
       "    word-wrap: break-word;\n",
       "    word-break: break-all;\n",
       "    font-family: \"Source Code Pro\", \"Menlo\", monospace;;\n",
       "    font-size: 13px;\n",
       "    color: #555;\n",
       "    margin-left: 4px;\n",
       "    line-height: 19px;\n",
       "  }\n",
       "</style>\n",
       "<div class=\"ansiout\"></div>"
      ]
     },
     "metadata": {
      "application/vnd.databricks.v1+output": {
       "addedWidgets": {},
       "arguments": {},
       "data": "<div class=\"ansiout\"></div>",
       "datasetInfos": [],
       "metadata": {},
       "removedWidgets": [],
       "type": "html"
      }
     },
     "output_type": "display_data"
    }
   ],
   "source": [
    "# chargement des images de fruit\n",
    "images = spark.read.format(\"binaryFile\") \\\n",
    "  .option(\"pathGlobFilter\", \"*.jpg\") \\\n",
    "  .option(\"recursiveFileLookup\", \"true\") \\\n",
    "  .load(\"/mnt/%s\" % mount_name)"
   ]
  },
  {
   "cell_type": "code",
   "execution_count": 0,
   "metadata": {
    "application/vnd.databricks.v1+cell": {
     "inputWidgets": {},
     "nuid": "0a371fb3-0a5e-42a7-95eb-e99a1385632e",
     "showTitle": false,
     "title": ""
    }
   },
   "outputs": [
    {
     "data": {
      "text/html": [
       "<style scoped>\n",
       "  .ansiout {\n",
       "    display: block;\n",
       "    unicode-bidi: embed;\n",
       "    white-space: pre-wrap;\n",
       "    word-wrap: break-word;\n",
       "    word-break: break-all;\n",
       "    font-family: \"Source Code Pro\", \"Menlo\", monospace;;\n",
       "    font-size: 13px;\n",
       "    color: #555;\n",
       "    margin-left: 4px;\n",
       "    line-height: 19px;\n",
       "  }\n",
       "</style>\n",
       "<div class=\"ansiout\"></div>"
      ]
     },
     "metadata": {
      "application/vnd.databricks.v1+output": {
       "addedWidgets": {},
       "arguments": {},
       "data": "<div class=\"ansiout\"></div>",
       "datasetInfos": [],
       "metadata": {},
       "removedWidgets": [],
       "type": "html"
      }
     },
     "output_type": "display_data"
    }
   ],
   "source": [
    "import pandas as pd\n",
    "from PIL import Image\n",
    "import numpy as np\n",
    "import io\n",
    "\n",
    "import tensorflow as tf\n",
    "from tensorflow.keras.applications.resnet50 import ResNet50, preprocess_input\n",
    "#from tensorflow.keras.applications.vgg16 import VGG16, preprocess_input\n",
    "#from tensorflow.keras.applications.inception_resnet_v2 import InceptionResNetV2, preprocess_input\n",
    "from tensorflow.keras.preprocessing.image import img_to_array\n",
    "\n",
    "from pyspark.sql.functions import col, split, pandas_udf, PandasUDFType\n",
    "\n",
    "from pyspark.ml.functions import vector_to_array\n",
    "from pyspark.ml.feature import StringIndexer, StandardScaler\n",
    "from pyspark.ml.linalg import Vectors, VectorUDT\n",
    "from pyspark.ml.feature import PCA\n",
    "\n",
    "import seaborn as sns\n",
    "import matplotlib.pyplot as plt"
   ]
  },
  {
   "cell_type": "code",
   "execution_count": 0,
   "metadata": {
    "application/vnd.databricks.v1+cell": {
     "inputWidgets": {},
     "nuid": "623f9ff8-fcd5-42e0-921b-d165ce4e985a",
     "showTitle": false,
     "title": ""
    }
   },
   "outputs": [
    {
     "data": {
      "text/html": [
       "<style scoped>\n",
       "  .ansiout {\n",
       "    display: block;\n",
       "    unicode-bidi: embed;\n",
       "    white-space: pre-wrap;\n",
       "    word-wrap: break-word;\n",
       "    word-break: break-all;\n",
       "    font-family: \"Source Code Pro\", \"Menlo\", monospace;;\n",
       "    font-size: 13px;\n",
       "    color: #555;\n",
       "    margin-left: 4px;\n",
       "    line-height: 19px;\n",
       "  }\n",
       "</style>\n",
       "<div class=\"ansiout\">+--------------------+--------------------+-----------+\n",
       "                path|             content|      label|\n",
       "+--------------------+--------------------+-----------+\n",
       "dbfs:/mnt/fruit-3...|[FF D8 FF E0 00 1...|apple_hit_1|\n",
       "dbfs:/mnt/fruit-3...|[FF D8 FF E0 00 1...|apple_hit_1|\n",
       "dbfs:/mnt/fruit-3...|[FF D8 FF E0 00 1...|apple_hit_1|\n",
       "dbfs:/mnt/fruit-3...|[FF D8 FF E0 00 1...|apple_hit_1|\n",
       "dbfs:/mnt/fruit-3...|[FF D8 FF E0 00 1...|apple_hit_1|\n",
       "dbfs:/mnt/fruit-3...|[FF D8 FF E0 00 1...|apple_hit_1|\n",
       "dbfs:/mnt/fruit-3...|[FF D8 FF E0 00 1...|apple_hit_1|\n",
       "dbfs:/mnt/fruit-3...|[FF D8 FF E0 00 1...|apple_hit_1|\n",
       "dbfs:/mnt/fruit-3...|[FF D8 FF E0 00 1...|apple_hit_1|\n",
       "dbfs:/mnt/fruit-3...|[FF D8 FF E0 00 1...|apple_hit_1|\n",
       "dbfs:/mnt/fruit-3...|[FF D8 FF E0 00 1...|apple_hit_1|\n",
       "dbfs:/mnt/fruit-3...|[FF D8 FF E0 00 1...|apple_hit_1|\n",
       "dbfs:/mnt/fruit-3...|[FF D8 FF E0 00 1...|apple_hit_1|\n",
       "dbfs:/mnt/fruit-3...|[FF D8 FF E0 00 1...|apple_hit_1|\n",
       "dbfs:/mnt/fruit-3...|[FF D8 FF E0 00 1...|apple_hit_1|\n",
       "dbfs:/mnt/fruit-3...|[FF D8 FF E0 00 1...|apple_hit_1|\n",
       "dbfs:/mnt/fruit-3...|[FF D8 FF E0 00 1...|apple_hit_1|\n",
       "dbfs:/mnt/fruit-3...|[FF D8 FF E0 00 1...|apple_hit_1|\n",
       "dbfs:/mnt/fruit-3...|[FF D8 FF E0 00 1...|apple_hit_1|\n",
       "dbfs:/mnt/fruit-3...|[FF D8 FF E0 00 1...|apple_hit_1|\n",
       "+--------------------+--------------------+-----------+\n",
       "only showing top 20 rows\n",
       "\n",
       "</div>"
      ]
     },
     "metadata": {
      "application/vnd.databricks.v1+output": {
       "addedWidgets": {},
       "arguments": {},
       "data": "<div class=\"ansiout\">+--------------------+--------------------+-----------+\n|                path|             content|      label|\n+--------------------+--------------------+-----------+\n|dbfs:/mnt/fruit-3...|[FF D8 FF E0 00 1...|apple_hit_1|\n|dbfs:/mnt/fruit-3...|[FF D8 FF E0 00 1...|apple_hit_1|\n|dbfs:/mnt/fruit-3...|[FF D8 FF E0 00 1...|apple_hit_1|\n|dbfs:/mnt/fruit-3...|[FF D8 FF E0 00 1...|apple_hit_1|\n|dbfs:/mnt/fruit-3...|[FF D8 FF E0 00 1...|apple_hit_1|\n|dbfs:/mnt/fruit-3...|[FF D8 FF E0 00 1...|apple_hit_1|\n|dbfs:/mnt/fruit-3...|[FF D8 FF E0 00 1...|apple_hit_1|\n|dbfs:/mnt/fruit-3...|[FF D8 FF E0 00 1...|apple_hit_1|\n|dbfs:/mnt/fruit-3...|[FF D8 FF E0 00 1...|apple_hit_1|\n|dbfs:/mnt/fruit-3...|[FF D8 FF E0 00 1...|apple_hit_1|\n|dbfs:/mnt/fruit-3...|[FF D8 FF E0 00 1...|apple_hit_1|\n|dbfs:/mnt/fruit-3...|[FF D8 FF E0 00 1...|apple_hit_1|\n|dbfs:/mnt/fruit-3...|[FF D8 FF E0 00 1...|apple_hit_1|\n|dbfs:/mnt/fruit-3...|[FF D8 FF E0 00 1...|apple_hit_1|\n|dbfs:/mnt/fruit-3...|[FF D8 FF E0 00 1...|apple_hit_1|\n|dbfs:/mnt/fruit-3...|[FF D8 FF E0 00 1...|apple_hit_1|\n|dbfs:/mnt/fruit-3...|[FF D8 FF E0 00 1...|apple_hit_1|\n|dbfs:/mnt/fruit-3...|[FF D8 FF E0 00 1...|apple_hit_1|\n|dbfs:/mnt/fruit-3...|[FF D8 FF E0 00 1...|apple_hit_1|\n|dbfs:/mnt/fruit-3...|[FF D8 FF E0 00 1...|apple_hit_1|\n+--------------------+--------------------+-----------+\nonly showing top 20 rows\n\n</div>",
       "datasetInfos": [],
       "metadata": {},
       "removedWidgets": [],
       "type": "html"
      }
     },
     "output_type": "display_data"
    }
   ],
   "source": [
    "# récupération du label des fruits\n",
    "images = images.withColumn('label', split(col('path'), '/').getItem(4))\n",
    "images = images.select('path', 'content', 'label')\n",
    "images.show()"
   ]
  },
  {
   "cell_type": "code",
   "execution_count": 0,
   "metadata": {
    "application/vnd.databricks.v1+cell": {
     "inputWidgets": {},
     "nuid": "5339edc9-8024-4183-9380-b7dead3c52b1",
     "showTitle": false,
     "title": ""
    }
   },
   "outputs": [
    {
     "data": {
      "text/html": [
       "<style scoped>\n",
       "  .ansiout {\n",
       "    display: block;\n",
       "    unicode-bidi: embed;\n",
       "    white-space: pre-wrap;\n",
       "    word-wrap: break-word;\n",
       "    word-break: break-all;\n",
       "    font-family: \"Source Code Pro\", \"Menlo\", monospace;;\n",
       "    font-size: 13px;\n",
       "    color: #555;\n",
       "    margin-left: 4px;\n",
       "    line-height: 19px;\n",
       "  }\n",
       "</style>\n",
       "<div class=\"ansiout\">Model: &#34;resnet50&#34;\n",
       "__________________________________________________________________________________________________\n",
       "Layer (type)                    Output Shape         Param #     Connected to                     \n",
       "==================================================================================================\n",
       "input_1 (InputLayer)            [(None, None, None,  0                                            \n",
       "__________________________________________________________________________________________________\n",
       "conv1_pad (ZeroPadding2D)       (None, None, None, 3 0           input_1[0][0]                    \n",
       "__________________________________________________________________________________________________\n",
       "conv1_conv (Conv2D)             (None, None, None, 6 9472        conv1_pad[0][0]                  \n",
       "__________________________________________________________________________________________________\n",
       "conv1_bn (BatchNormalization)   (None, None, None, 6 256         conv1_conv[0][0]                 \n",
       "__________________________________________________________________________________________________\n",
       "conv1_relu (Activation)         (None, None, None, 6 0           conv1_bn[0][0]                   \n",
       "__________________________________________________________________________________________________\n",
       "pool1_pad (ZeroPadding2D)       (None, None, None, 6 0           conv1_relu[0][0]                 \n",
       "__________________________________________________________________________________________________\n",
       "pool1_pool (MaxPooling2D)       (None, None, None, 6 0           pool1_pad[0][0]                  \n",
       "__________________________________________________________________________________________________\n",
       "conv2_block1_1_conv (Conv2D)    (None, None, None, 6 4160        pool1_pool[0][0]                 \n",
       "__________________________________________________________________________________________________\n",
       "conv2_block1_1_bn (BatchNormali (None, None, None, 6 256         conv2_block1_1_conv[0][0]        \n",
       "__________________________________________________________________________________________________\n",
       "conv2_block1_1_relu (Activation (None, None, None, 6 0           conv2_block1_1_bn[0][0]          \n",
       "__________________________________________________________________________________________________\n",
       "conv2_block1_2_conv (Conv2D)    (None, None, None, 6 36928       conv2_block1_1_relu[0][0]        \n",
       "__________________________________________________________________________________________________\n",
       "conv2_block1_2_bn (BatchNormali (None, None, None, 6 256         conv2_block1_2_conv[0][0]        \n",
       "__________________________________________________________________________________________________\n",
       "conv2_block1_2_relu (Activation (None, None, None, 6 0           conv2_block1_2_bn[0][0]          \n",
       "__________________________________________________________________________________________________\n",
       "conv2_block1_0_conv (Conv2D)    (None, None, None, 2 16640       pool1_pool[0][0]                 \n",
       "__________________________________________________________________________________________________\n",
       "conv2_block1_3_conv (Conv2D)    (None, None, None, 2 16640       conv2_block1_2_relu[0][0]        \n",
       "__________________________________________________________________________________________________\n",
       "conv2_block1_0_bn (BatchNormali (None, None, None, 2 1024        conv2_block1_0_conv[0][0]        \n",
       "__________________________________________________________________________________________________\n",
       "conv2_block1_3_bn (BatchNormali (None, None, None, 2 1024        conv2_block1_3_conv[0][0]        \n",
       "__________________________________________________________________________________________________\n",
       "conv2_block1_add (Add)          (None, None, None, 2 0           conv2_block1_0_bn[0][0]          \n",
       "                                                                 conv2_block1_3_bn[0][0]          \n",
       "__________________________________________________________________________________________________\n",
       "conv2_block1_out (Activation)   (None, None, None, 2 0           conv2_block1_add[0][0]           \n",
       "__________________________________________________________________________________________________\n",
       "conv2_block2_1_conv (Conv2D)    (None, None, None, 6 16448       conv2_block1_out[0][0]           \n",
       "__________________________________________________________________________________________________\n",
       "conv2_block2_1_bn (BatchNormali (None, None, None, 6 256         conv2_block2_1_conv[0][0]        \n",
       "__________________________________________________________________________________________________\n",
       "conv2_block2_1_relu (Activation (None, None, None, 6 0           conv2_block2_1_bn[0][0]          \n",
       "__________________________________________________________________________________________________\n",
       "conv2_block2_2_conv (Conv2D)    (None, None, None, 6 36928       conv2_block2_1_relu[0][0]        \n",
       "__________________________________________________________________________________________________\n",
       "conv2_block2_2_bn (BatchNormali (None, None, None, 6 256         conv2_block2_2_conv[0][0]        \n",
       "__________________________________________________________________________________________________\n",
       "conv2_block2_2_relu (Activation (None, None, None, 6 0           conv2_block2_2_bn[0][0]          \n",
       "__________________________________________________________________________________________________\n",
       "conv2_block2_3_conv (Conv2D)    (None, None, None, 2 16640       conv2_block2_2_relu[0][0]        \n",
       "__________________________________________________________________________________________________\n",
       "conv2_block2_3_bn (BatchNormali (None, None, None, 2 1024        conv2_block2_3_conv[0][0]        \n",
       "__________________________________________________________________________________________________\n",
       "conv2_block2_add (Add)          (None, None, None, 2 0           conv2_block1_out[0][0]           \n",
       "                                                                 conv2_block2_3_bn[0][0]          \n",
       "__________________________________________________________________________________________________\n",
       "conv2_block2_out (Activation)   (None, None, None, 2 0           conv2_block2_add[0][0]           \n",
       "__________________________________________________________________________________________________\n",
       "conv2_block3_1_conv (Conv2D)    (None, None, None, 6 16448       conv2_block2_out[0][0]           \n",
       "__________________________________________________________________________________________________\n",
       "conv2_block3_1_bn (BatchNormali (None, None, None, 6 256         conv2_block3_1_conv[0][0]        \n",
       "__________________________________________________________________________________________________\n",
       "conv2_block3_1_relu (Activation (None, None, None, 6 0           conv2_block3_1_bn[0][0]          \n",
       "__________________________________________________________________________________________________\n",
       "conv2_block3_2_conv (Conv2D)    (None, None, None, 6 36928       conv2_block3_1_relu[0][0]        \n",
       "__________________________________________________________________________________________________\n",
       "conv2_block3_2_bn (BatchNormali (None, None, None, 6 256         conv2_block3_2_conv[0][0]        \n",
       "__________________________________________________________________________________________________\n",
       "conv2_block3_2_relu (Activation (None, None, None, 6 0           conv2_block3_2_bn[0][0]          \n",
       "__________________________________________________________________________________________________\n",
       "conv2_block3_3_conv (Conv2D)    (None, None, None, 2 16640       conv2_block3_2_relu[0][0]        \n",
       "__________________________________________________________________________________________________\n",
       "conv2_block3_3_bn (BatchNormali (None, None, None, 2 1024        conv2_block3_3_conv[0][0]        \n",
       "__________________________________________________________________________________________________\n",
       "conv2_block3_add (Add)          (None, None, None, 2 0           conv2_block2_out[0][0]           \n",
       "                                                                 conv2_block3_3_bn[0][0]          \n",
       "__________________________________________________________________________________________________\n",
       "conv2_block3_out (Activation)   (None, None, None, 2 0           conv2_block3_add[0][0]           \n",
       "__________________________________________________________________________________________________\n",
       "conv3_block1_1_conv (Conv2D)    (None, None, None, 1 32896       conv2_block3_out[0][0]           \n",
       "__________________________________________________________________________________________________\n",
       "conv3_block1_1_bn (BatchNormali (None, None, None, 1 512         conv3_block1_1_conv[0][0]        \n",
       "__________________________________________________________________________________________________\n",
       "conv3_block1_1_relu (Activation (None, None, None, 1 0           conv3_block1_1_bn[0][0]          \n",
       "__________________________________________________________________________________________________\n",
       "conv3_block1_2_conv (Conv2D)    (None, None, None, 1 147584      conv3_block1_1_relu[0][0]        \n",
       "__________________________________________________________________________________________________\n",
       "conv3_block1_2_bn (BatchNormali (None, None, None, 1 512         conv3_block1_2_conv[0][0]        \n",
       "__________________________________________________________________________________________________\n",
       "conv3_block1_2_relu (Activation (None, None, None, 1 0           conv3_block1_2_bn[0][0]          \n",
       "__________________________________________________________________________________________________\n",
       "conv3_block1_0_conv (Conv2D)    (None, None, None, 5 131584      conv2_block3_out[0][0]           \n",
       "__________________________________________________________________________________________________\n",
       "conv3_block1_3_conv (Conv2D)    (None, None, None, 5 66048       conv3_block1_2_relu[0][0]        \n",
       "__________________________________________________________________________________________________\n",
       "conv3_block1_0_bn (BatchNormali (None, None, None, 5 2048        conv3_block1_0_conv[0][0]        \n",
       "__________________________________________________________________________________________________\n",
       "conv3_block1_3_bn (BatchNormali (None, None, None, 5 2048        conv3_block1_3_conv[0][0]        \n",
       "__________________________________________________________________________________________________\n",
       "conv3_block1_add (Add)          (None, None, None, 5 0           conv3_block1_0_bn[0][0]          \n",
       "                                                                 conv3_block1_3_bn[0][0]          \n",
       "__________________________________________________________________________________________________\n",
       "conv3_block1_out (Activation)   (None, None, None, 5 0           conv3_block1_add[0][0]           \n",
       "__________________________________________________________________________________________________\n",
       "conv3_block2_1_conv (Conv2D)    (None, None, None, 1 65664       conv3_block1_out[0][0]           \n",
       "__________________________________________________________________________________________________\n",
       "conv3_block2_1_bn (BatchNormali (None, None, None, 1 512         conv3_block2_1_conv[0][0]        \n",
       "__________________________________________________________________________________________________\n",
       "conv3_block2_1_relu (Activation (None, None, None, 1 0           conv3_block2_1_bn[0][0]          \n",
       "__________________________________________________________________________________________________\n",
       "conv3_block2_2_conv (Conv2D)    (None, None, None, 1 147584      conv3_block2_1_relu[0][0]        \n",
       "__________________________________________________________________________________________________\n",
       "conv3_block2_2_bn (BatchNormali (None, None, None, 1 512         conv3_block2_2_conv[0][0]        \n",
       "__________________________________________________________________________________________________\n",
       "conv3_block2_2_relu (Activation (None, None, None, 1 0           conv3_block2_2_bn[0][0]          \n",
       "__________________________________________________________________________________________________\n",
       "conv3_block2_3_conv (Conv2D)    (None, None, None, 5 66048       conv3_block2_2_relu[0][0]        \n",
       "__________________________________________________________________________________________________\n",
       "conv3_block2_3_bn (BatchNormali (None, None, None, 5 2048        conv3_block2_3_conv[0][0]        \n",
       "__________________________________________________________________________________________________\n",
       "conv3_block2_add (Add)          (None, None, None, 5 0           conv3_block1_out[0][0]           \n",
       "                                                                 conv3_block2_3_bn[0][0]          \n",
       "__________________________________________________________________________________________________\n",
       "conv3_block2_out (Activation)   (None, None, None, 5 0           conv3_block2_add[0][0]           \n",
       "__________________________________________________________________________________________________\n",
       "conv3_block3_1_conv (Conv2D)    (None, None, None, 1 65664       conv3_block2_out[0][0]           \n",
       "__________________________________________________________________________________________________\n",
       "conv3_block3_1_bn (BatchNormali (None, None, None, 1 512         conv3_block3_1_conv[0][0]        \n",
       "__________________________________________________________________________________________________\n",
       "conv3_block3_1_relu (Activation (None, None, None, 1 0           conv3_block3_1_bn[0][0]          \n",
       "__________________________________________________________________________________________________\n",
       "conv3_block3_2_conv (Conv2D)    (None, None, None, 1 147584      conv3_block3_1_relu[0][0]        \n",
       "__________________________________________________________________________________________________\n",
       "conv3_block3_2_bn (BatchNormali (None, None, None, 1 512         conv3_block3_2_conv[0][0]        \n",
       "__________________________________________________________________________________________________\n",
       "conv3_block3_2_relu (Activation (None, None, None, 1 0           conv3_block3_2_bn[0][0]          \n",
       "__________________________________________________________________________________________________\n",
       "conv3_block3_3_conv (Conv2D)    (None, None, None, 5 66048       conv3_block3_2_relu[0][0]        \n",
       "__________________________________________________________________________________________________\n",
       "conv3_block3_3_bn (BatchNormali (None, None, None, 5 2048        conv3_block3_3_conv[0][0]        \n",
       "__________________________________________________________________________________________________\n",
       "conv3_block3_add (Add)          (None, None, None, 5 0           conv3_block2_out[0][0]           \n",
       "                                                                 conv3_block3_3_bn[0][0]          \n",
       "__________________________________________________________________________________________________\n",
       "conv3_block3_out (Activation)   (None, None, None, 5 0           conv3_block3_add[0][0]           \n",
       "__________________________________________________________________________________________________\n",
       "conv3_block4_1_conv (Conv2D)    (None, None, None, 1 65664       conv3_block3_out[0][0]           \n",
       "__________________________________________________________________________________________________\n",
       "conv3_block4_1_bn (BatchNormali (None, None, None, 1 512         conv3_block4_1_conv[0][0]        \n",
       "__________________________________________________________________________________________________\n",
       "conv3_block4_1_relu (Activation (None, None, None, 1 0           conv3_block4_1_bn[0][0]          \n",
       "__________________________________________________________________________________________________\n",
       "conv3_block4_2_conv (Conv2D)    (None, None, None, 1 147584      conv3_block4_1_relu[0][0]        \n",
       "__________________________________________________________________________________________________\n",
       "conv3_block4_2_bn (BatchNormali (None, None, None, 1 512         conv3_block4_2_conv[0][0]        \n",
       "__________________________________________________________________________________________________\n",
       "conv3_block4_2_relu (Activation (None, None, None, 1 0           conv3_block4_2_bn[0][0]          \n",
       "__________________________________________________________________________________________________\n",
       "conv3_block4_3_conv (Conv2D)    (None, None, None, 5 66048       conv3_block4_2_relu[0][0]        \n",
       "__________________________________________________________________________________________________\n",
       "conv3_block4_3_bn (BatchNormali (None, None, None, 5 2048        conv3_block4_3_conv[0][0]        \n",
       "__________________________________________________________________________________________________\n",
       "conv3_block4_add (Add)          (None, None, None, 5 0           conv3_block3_out[0][0]           \n",
       "                                                                 conv3_block4_3_bn[0][0]          \n",
       "__________________________________________________________________________________________________\n",
       "conv3_block4_out (Activation)   (None, None, None, 5 0           conv3_block4_add[0][0]           \n",
       "__________________________________________________________________________________________________\n",
       "conv4_block1_1_conv (Conv2D)    (None, None, None, 2 131328      conv3_block4_out[0][0]           \n",
       "__________________________________________________________________________________________________\n",
       "conv4_block1_1_bn (BatchNormali (None, None, None, 2 1024        conv4_block1_1_conv[0][0]        \n",
       "__________________________________________________________________________________________________\n",
       "conv4_block1_1_relu (Activation (None, None, None, 2 0           conv4_block1_1_bn[0][0]          \n",
       "__________________________________________________________________________________________________\n",
       "conv4_block1_2_conv (Conv2D)    (None, None, None, 2 590080      conv4_block1_1_relu[0][0]        \n",
       "__________________________________________________________________________________________________\n",
       "conv4_block1_2_bn (BatchNormali (None, None, None, 2 1024        conv4_block1_2_conv[0][0]        \n",
       "__________________________________________________________________________________________________\n",
       "conv4_block1_2_relu (Activation (None, None, None, 2 0           conv4_block1_2_bn[0][0]          \n",
       "__________________________________________________________________________________________________\n",
       "conv4_block1_0_conv (Conv2D)    (None, None, None, 1 525312      conv3_block4_out[0][0]           \n",
       "__________________________________________________________________________________________________\n",
       "conv4_block1_3_conv (Conv2D)    (None, None, None, 1 263168      conv4_block1_2_relu[0][0]        \n",
       "__________________________________________________________________________________________________\n",
       "conv4_block1_0_bn (BatchNormali (None, None, None, 1 4096        conv4_block1_0_conv[0][0]        \n",
       "__________________________________________________________________________________________________\n",
       "conv4_block1_3_bn (BatchNormali (None, None, None, 1 4096        conv4_block1_3_conv[0][0]        \n",
       "__________________________________________________________________________________________________\n",
       "conv4_block1_add (Add)          (None, None, None, 1 0           conv4_block1_0_bn[0][0]          \n",
       "                                                                 conv4_block1_3_bn[0][0]          \n",
       "__________________________________________________________________________________________________\n",
       "conv4_block1_out (Activation)   (None, None, None, 1 0           conv4_block1_add[0][0]           \n",
       "__________________________________________________________________________________________________\n",
       "conv4_block2_1_conv (Conv2D)    (None, None, None, 2 262400      conv4_block1_out[0][0]           \n",
       "__________________________________________________________________________________________________\n",
       "conv4_block2_1_bn (BatchNormali (None, None, None, 2 1024        conv4_block2_1_conv[0][0]        \n",
       "__________________________________________________________________________________________________\n",
       "conv4_block2_1_relu (Activation (None, None, None, 2 0           conv4_block2_1_bn[0][0]          \n",
       "__________________________________________________________________________________________________\n",
       "conv4_block2_2_conv (Conv2D)    (None, None, None, 2 590080      conv4_block2_1_relu[0][0]        \n",
       "__________________________________________________________________________________________________\n",
       "conv4_block2_2_bn (BatchNormali (None, None, None, 2 1024        conv4_block2_2_conv[0][0]        \n",
       "__________________________________________________________________________________________________\n",
       "conv4_block2_2_relu (Activation (None, None, None, 2 0           conv4_block2_2_bn[0][0]          \n",
       "__________________________________________________________________________________________________\n",
       "conv4_block2_3_conv (Conv2D)    (None, None, None, 1 263168      conv4_block2_2_relu[0][0]        \n",
       "__________________________________________________________________________________________________\n",
       "conv4_block2_3_bn (BatchNormali (None, None, None, 1 4096        conv4_block2_3_conv[0][0]        \n",
       "__________________________________________________________________________________________________\n",
       "conv4_block2_add (Add)          (None, None, None, 1 0           conv4_block1_out[0][0]           \n",
       "                                                                 conv4_block2_3_bn[0][0]          \n",
       "__________________________________________________________________________________________________\n",
       "conv4_block2_out (Activation)   (None, None, None, 1 0           conv4_block2_add[0][0]           \n",
       "__________________________________________________________________________________________________\n",
       "conv4_block3_1_conv (Conv2D)    (None, None, None, 2 262400      conv4_block2_out[0][0]           \n",
       "__________________________________________________________________________________________________\n",
       "conv4_block3_1_bn (BatchNormali (None, None, None, 2 1024        conv4_block3_1_conv[0][0]        \n",
       "__________________________________________________________________________________________________\n",
       "conv4_block3_1_relu (Activation (None, None, None, 2 0           conv4_block3_1_bn[0][0]          \n",
       "__________________________________________________________________________________________________\n",
       "conv4_block3_2_conv (Conv2D)    (None, None, None, 2 590080      conv4_block3_1_relu[0][0]        \n",
       "__________________________________________________________________________________________________\n",
       "conv4_block3_2_bn (BatchNormali (None, None, None, 2 1024        conv4_block3_2_conv[0][0]        \n",
       "__________________________________________________________________________________________________\n",
       "conv4_block3_2_relu (Activation (None, None, None, 2 0           conv4_block3_2_bn[0][0]          \n",
       "__________________________________________________________________________________________________\n",
       "conv4_block3_3_conv (Conv2D)    (None, None, None, 1 263168      conv4_block3_2_relu[0][0]        \n",
       "__________________________________________________________________________________________________\n",
       "conv4_block3_3_bn (BatchNormali (None, None, None, 1 4096        conv4_block3_3_conv[0][0]        \n",
       "__________________________________________________________________________________________________\n",
       "conv4_block3_add (Add)          (None, None, None, 1 0           conv4_block2_out[0][0]           \n",
       "                                                                 conv4_block3_3_bn[0][0]          \n",
       "__________________________________________________________________________________________________\n",
       "conv4_block3_out (Activation)   (None, None, None, 1 0           conv4_block3_add[0][0]           \n",
       "__________________________________________________________________________________________________\n",
       "conv4_block4_1_conv (Conv2D)    (None, None, None, 2 262400      conv4_block3_out[0][0]           \n",
       "__________________________________________________________________________________________________\n",
       "conv4_block4_1_bn (BatchNormali (None, None, None, 2 1024        conv4_block4_1_conv[0][0]        \n",
       "__________________________________________________________________________________________________\n",
       "conv4_block4_1_relu (Activation (None, None, None, 2 0           conv4_block4_1_bn[0][0]          \n",
       "__________________________________________________________________________________________________\n",
       "conv4_block4_2_conv (Conv2D)    (None, None, None, 2 590080      conv4_block4_1_relu[0][0]        \n",
       "__________________________________________________________________________________________________\n",
       "conv4_block4_2_bn (BatchNormali (None, None, None, 2 1024        conv4_block4_2_conv[0][0]        \n",
       "__________________________________________________________________________________________________\n",
       "conv4_block4_2_relu (Activation (None, None, None, 2 0           conv4_block4_2_bn[0][0]          \n",
       "__________________________________________________________________________________________________\n",
       "conv4_block4_3_conv (Conv2D)    (None, None, None, 1 263168      conv4_block4_2_relu[0][0]        \n",
       "__________________________________________________________________________________________________\n",
       "conv4_block4_3_bn (BatchNormali (None, None, None, 1 4096        conv4_block4_3_conv[0][0]        \n",
       "__________________________________________________________________________________________________\n",
       "conv4_block4_add (Add)          (None, None, None, 1 0           conv4_block3_out[0][0]           \n",
       "                                                                 conv4_block4_3_bn[0][0]          \n",
       "__________________________________________________________________________________________________\n",
       "conv4_block4_out (Activation)   (None, None, None, 1 0           conv4_block4_add[0][0]           \n",
       "__________________________________________________________________________________________________\n",
       "conv4_block5_1_conv (Conv2D)    (None, None, None, 2 262400      conv4_block4_out[0][0]           \n",
       "__________________________________________________________________________________________________\n",
       "conv4_block5_1_bn (BatchNormali (None, None, None, 2 1024        conv4_block5_1_conv[0][0]        \n",
       "__________________________________________________________________________________________________\n",
       "conv4_block5_1_relu (Activation (None, None, None, 2 0           conv4_block5_1_bn[0][0]          \n",
       "__________________________________________________________________________________________________\n",
       "conv4_block5_2_conv (Conv2D)    (None, None, None, 2 590080      conv4_block5_1_relu[0][0]        \n",
       "__________________________________________________________________________________________________\n",
       "conv4_block5_2_bn (BatchNormali (None, None, None, 2 1024        conv4_block5_2_conv[0][0]        \n",
       "__________________________________________________________________________________________________\n",
       "conv4_block5_2_relu (Activation (None, None, None, 2 0           conv4_block5_2_bn[0][0]          \n",
       "__________________________________________________________________________________________________\n",
       "conv4_block5_3_conv (Conv2D)    (None, None, None, 1 263168      conv4_block5_2_relu[0][0]        \n",
       "__________________________________________________________________________________________________\n",
       "conv4_block5_3_bn (BatchNormali (None, None, None, 1 4096        conv4_block5_3_conv[0][0]        \n",
       "__________________________________________________________________________________________________\n",
       "conv4_block5_add (Add)          (None, None, None, 1 0           conv4_block4_out[0][0]           \n",
       "                                                                 conv4_block5_3_bn[0][0]          \n",
       "__________________________________________________________________________________________________\n",
       "conv4_block5_out (Activation)   (None, None, None, 1 0           conv4_block5_add[0][0]           \n",
       "__________________________________________________________________________________________________\n",
       "conv4_block6_1_conv (Conv2D)    (None, None, None, 2 262400      conv4_block5_out[0][0]           \n",
       "__________________________________________________________________________________________________\n",
       "conv4_block6_1_bn (BatchNormali (None, None, None, 2 1024        conv4_block6_1_conv[0][0]        \n",
       "__________________________________________________________________________________________________\n",
       "conv4_block6_1_relu (Activation (None, None, None, 2 0           conv4_block6_1_bn[0][0]          \n",
       "__________________________________________________________________________________________________\n",
       "conv4_block6_2_conv (Conv2D)    (None, None, None, 2 590080      conv4_block6_1_relu[0][0]        \n",
       "__________________________________________________________________________________________________\n",
       "conv4_block6_2_bn (BatchNormali (None, None, None, 2 1024        conv4_block6_2_conv[0][0]        \n",
       "__________________________________________________________________________________________________\n",
       "conv4_block6_2_relu (Activation (None, None, None, 2 0           conv4_block6_2_bn[0][0]          \n",
       "__________________________________________________________________________________________________\n",
       "conv4_block6_3_conv (Conv2D)    (None, None, None, 1 263168      conv4_block6_2_relu[0][0]        \n",
       "__________________________________________________________________________________________________\n",
       "conv4_block6_3_bn (BatchNormali (None, None, None, 1 4096        conv4_block6_3_conv[0][0]        \n",
       "__________________________________________________________________________________________________\n",
       "conv4_block6_add (Add)          (None, None, None, 1 0           conv4_block5_out[0][0]           \n",
       "                                                                 conv4_block6_3_bn[0][0]          \n",
       "__________________________________________________________________________________________________\n",
       "conv4_block6_out (Activation)   (None, None, None, 1 0           conv4_block6_add[0][0]           \n",
       "__________________________________________________________________________________________________\n",
       "conv5_block1_1_conv (Conv2D)    (None, None, None, 5 524800      conv4_block6_out[0][0]           \n",
       "__________________________________________________________________________________________________\n",
       "conv5_block1_1_bn (BatchNormali (None, None, None, 5 2048        conv5_block1_1_conv[0][0]        \n",
       "__________________________________________________________________________________________________\n",
       "conv5_block1_1_relu (Activation (None, None, None, 5 0           conv5_block1_1_bn[0][0]          \n",
       "__________________________________________________________________________________________________\n",
       "conv5_block1_2_conv (Conv2D)    (None, None, None, 5 2359808     conv5_block1_1_relu[0][0]        \n",
       "__________________________________________________________________________________________________\n",
       "conv5_block1_2_bn (BatchNormali (None, None, None, 5 2048        conv5_block1_2_conv[0][0]        \n",
       "__________________________________________________________________________________________________\n",
       "conv5_block1_2_relu (Activation (None, None, None, 5 0           conv5_block1_2_bn[0][0]          \n",
       "__________________________________________________________________________________________________\n",
       "conv5_block1_0_conv (Conv2D)    (None, None, None, 2 2099200     conv4_block6_out[0][0]           \n",
       "__________________________________________________________________________________________________\n",
       "conv5_block1_3_conv (Conv2D)    (None, None, None, 2 1050624     conv5_block1_2_relu[0][0]        \n",
       "__________________________________________________________________________________________________\n",
       "conv5_block1_0_bn (BatchNormali (None, None, None, 2 8192        conv5_block1_0_conv[0][0]        \n",
       "__________________________________________________________________________________________________\n",
       "conv5_block1_3_bn (BatchNormali (None, None, None, 2 8192        conv5_block1_3_conv[0][0]        \n",
       "__________________________________________________________________________________________________\n",
       "conv5_block1_add (Add)          (None, None, None, 2 0           conv5_block1_0_bn[0][0]          \n",
       "                                                                 conv5_block1_3_bn[0][0]          \n",
       "__________________________________________________________________________________________________\n",
       "conv5_block1_out (Activation)   (None, None, None, 2 0           conv5_block1_add[0][0]           \n",
       "__________________________________________________________________________________________________\n",
       "conv5_block2_1_conv (Conv2D)    (None, None, None, 5 1049088     conv5_block1_out[0][0]           \n",
       "__________________________________________________________________________________________________\n",
       "conv5_block2_1_bn (BatchNormali (None, None, None, 5 2048        conv5_block2_1_conv[0][0]        \n",
       "__________________________________________________________________________________________________\n",
       "conv5_block2_1_relu (Activation (None, None, None, 5 0           conv5_block2_1_bn[0][0]          \n",
       "__________________________________________________________________________________________________\n",
       "conv5_block2_2_conv (Conv2D)    (None, None, None, 5 2359808     conv5_block2_1_relu[0][0]        \n",
       "__________________________________________________________________________________________________\n",
       "conv5_block2_2_bn (BatchNormali (None, None, None, 5 2048        conv5_block2_2_conv[0][0]        \n",
       "__________________________________________________________________________________________________\n",
       "conv5_block2_2_relu (Activation (None, None, None, 5 0           conv5_block2_2_bn[0][0]          \n",
       "__________________________________________________________________________________________________\n",
       "conv5_block2_3_conv (Conv2D)    (None, None, None, 2 1050624     conv5_block2_2_relu[0][0]        \n",
       "__________________________________________________________________________________________________\n",
       "conv5_block2_3_bn (BatchNormali (None, None, None, 2 8192        conv5_block2_3_conv[0][0]        \n",
       "__________________________________________________________________________________________________\n",
       "conv5_block2_add (Add)          (None, None, None, 2 0           conv5_block1_out[0][0]           \n",
       "                                                                 conv5_block2_3_bn[0][0]          \n",
       "__________________________________________________________________________________________________\n",
       "conv5_block2_out (Activation)   (None, None, None, 2 0           conv5_block2_add[0][0]           \n",
       "__________________________________________________________________________________________________\n",
       "conv5_block3_1_conv (Conv2D)    (None, None, None, 5 1049088     conv5_block2_out[0][0]           \n",
       "__________________________________________________________________________________________________\n",
       "conv5_block3_1_bn (BatchNormali (None, None, None, 5 2048        conv5_block3_1_conv[0][0]        \n",
       "__________________________________________________________________________________________________\n",
       "conv5_block3_1_relu (Activation (None, None, None, 5 0           conv5_block3_1_bn[0][0]          \n",
       "__________________________________________________________________________________________________\n",
       "conv5_block3_2_conv (Conv2D)    (None, None, None, 5 2359808     conv5_block3_1_relu[0][0]        \n",
       "__________________________________________________________________________________________________\n",
       "conv5_block3_2_bn (BatchNormali (None, None, None, 5 2048        conv5_block3_2_conv[0][0]        \n",
       "__________________________________________________________________________________________________\n",
       "conv5_block3_2_relu (Activation (None, None, None, 5 0           conv5_block3_2_bn[0][0]          \n",
       "__________________________________________________________________________________________________\n",
       "conv5_block3_3_conv (Conv2D)    (None, None, None, 2 1050624     conv5_block3_2_relu[0][0]        \n",
       "__________________________________________________________________________________________________\n",
       "conv5_block3_3_bn (BatchNormali (None, None, None, 2 8192        conv5_block3_3_conv[0][0]        \n",
       "__________________________________________________________________________________________________\n",
       "conv5_block3_add (Add)          (None, None, None, 2 0           conv5_block2_out[0][0]           \n",
       "                                                                 conv5_block3_3_bn[0][0]          \n",
       "__________________________________________________________________________________________________\n",
       "conv5_block3_out (Activation)   (None, None, None, 2 0           conv5_block3_add[0][0]           \n",
       "==================================================================================================\n",
       "Total params: 23,587,712\n",
       "Trainable params: 23,534,592\n",
       "Non-trainable params: 53,120\n",
       "__________________________________________________________________________________________________\n",
       "</div>"
      ]
     },
     "metadata": {
      "application/vnd.databricks.v1+output": {
       "addedWidgets": {},
       "arguments": {},
       "data": "<div class=\"ansiout\">Model: &#34;resnet50&#34;\n__________________________________________________________________________________________________\nLayer (type)                    Output Shape         Param #     Connected to                     \n==================================================================================================\ninput_1 (InputLayer)            [(None, None, None,  0                                            \n__________________________________________________________________________________________________\nconv1_pad (ZeroPadding2D)       (None, None, None, 3 0           input_1[0][0]                    \n__________________________________________________________________________________________________\nconv1_conv (Conv2D)             (None, None, None, 6 9472        conv1_pad[0][0]                  \n__________________________________________________________________________________________________\nconv1_bn (BatchNormalization)   (None, None, None, 6 256         conv1_conv[0][0]                 \n__________________________________________________________________________________________________\nconv1_relu (Activation)         (None, None, None, 6 0           conv1_bn[0][0]                   \n__________________________________________________________________________________________________\npool1_pad (ZeroPadding2D)       (None, None, None, 6 0           conv1_relu[0][0]                 \n__________________________________________________________________________________________________\npool1_pool (MaxPooling2D)       (None, None, None, 6 0           pool1_pad[0][0]                  \n__________________________________________________________________________________________________\nconv2_block1_1_conv (Conv2D)    (None, None, None, 6 4160        pool1_pool[0][0]                 \n__________________________________________________________________________________________________\nconv2_block1_1_bn (BatchNormali (None, None, None, 6 256         conv2_block1_1_conv[0][0]        \n__________________________________________________________________________________________________\nconv2_block1_1_relu (Activation (None, None, None, 6 0           conv2_block1_1_bn[0][0]          \n__________________________________________________________________________________________________\nconv2_block1_2_conv (Conv2D)    (None, None, None, 6 36928       conv2_block1_1_relu[0][0]        \n__________________________________________________________________________________________________\nconv2_block1_2_bn (BatchNormali (None, None, None, 6 256         conv2_block1_2_conv[0][0]        \n__________________________________________________________________________________________________\nconv2_block1_2_relu (Activation (None, None, None, 6 0           conv2_block1_2_bn[0][0]          \n__________________________________________________________________________________________________\nconv2_block1_0_conv (Conv2D)    (None, None, None, 2 16640       pool1_pool[0][0]                 \n__________________________________________________________________________________________________\nconv2_block1_3_conv (Conv2D)    (None, None, None, 2 16640       conv2_block1_2_relu[0][0]        \n__________________________________________________________________________________________________\nconv2_block1_0_bn (BatchNormali (None, None, None, 2 1024        conv2_block1_0_conv[0][0]        \n__________________________________________________________________________________________________\nconv2_block1_3_bn (BatchNormali (None, None, None, 2 1024        conv2_block1_3_conv[0][0]        \n__________________________________________________________________________________________________\nconv2_block1_add (Add)          (None, None, None, 2 0           conv2_block1_0_bn[0][0]          \n                                                                 conv2_block1_3_bn[0][0]          \n__________________________________________________________________________________________________\nconv2_block1_out (Activation)   (None, None, None, 2 0           conv2_block1_add[0][0]           \n__________________________________________________________________________________________________\nconv2_block2_1_conv (Conv2D)    (None, None, None, 6 16448       conv2_block1_out[0][0]           \n__________________________________________________________________________________________________\nconv2_block2_1_bn (BatchNormali (None, None, None, 6 256         conv2_block2_1_conv[0][0]        \n__________________________________________________________________________________________________\nconv2_block2_1_relu (Activation (None, None, None, 6 0           conv2_block2_1_bn[0][0]          \n__________________________________________________________________________________________________\nconv2_block2_2_conv (Conv2D)    (None, None, None, 6 36928       conv2_block2_1_relu[0][0]        \n__________________________________________________________________________________________________\nconv2_block2_2_bn (BatchNormali (None, None, None, 6 256         conv2_block2_2_conv[0][0]        \n__________________________________________________________________________________________________\nconv2_block2_2_relu (Activation (None, None, None, 6 0           conv2_block2_2_bn[0][0]          \n__________________________________________________________________________________________________\nconv2_block2_3_conv (Conv2D)    (None, None, None, 2 16640       conv2_block2_2_relu[0][0]        \n__________________________________________________________________________________________________\nconv2_block2_3_bn (BatchNormali (None, None, None, 2 1024        conv2_block2_3_conv[0][0]        \n__________________________________________________________________________________________________\nconv2_block2_add (Add)          (None, None, None, 2 0           conv2_block1_out[0][0]           \n                                                                 conv2_block2_3_bn[0][0]          \n__________________________________________________________________________________________________\nconv2_block2_out (Activation)   (None, None, None, 2 0           conv2_block2_add[0][0]           \n__________________________________________________________________________________________________\nconv2_block3_1_conv (Conv2D)    (None, None, None, 6 16448       conv2_block2_out[0][0]           \n__________________________________________________________________________________________________\nconv2_block3_1_bn (BatchNormali (None, None, None, 6 256         conv2_block3_1_conv[0][0]        \n__________________________________________________________________________________________________\nconv2_block3_1_relu (Activation (None, None, None, 6 0           conv2_block3_1_bn[0][0]          \n__________________________________________________________________________________________________\nconv2_block3_2_conv (Conv2D)    (None, None, None, 6 36928       conv2_block3_1_relu[0][0]        \n__________________________________________________________________________________________________\nconv2_block3_2_bn (BatchNormali (None, None, None, 6 256         conv2_block3_2_conv[0][0]        \n__________________________________________________________________________________________________\nconv2_block3_2_relu (Activation (None, None, None, 6 0           conv2_block3_2_bn[0][0]          \n__________________________________________________________________________________________________\nconv2_block3_3_conv (Conv2D)    (None, None, None, 2 16640       conv2_block3_2_relu[0][0]        \n__________________________________________________________________________________________________\nconv2_block3_3_bn (BatchNormali (None, None, None, 2 1024        conv2_block3_3_conv[0][0]        \n__________________________________________________________________________________________________\nconv2_block3_add (Add)          (None, None, None, 2 0           conv2_block2_out[0][0]           \n                                                                 conv2_block3_3_bn[0][0]          \n__________________________________________________________________________________________________\nconv2_block3_out (Activation)   (None, None, None, 2 0           conv2_block3_add[0][0]           \n__________________________________________________________________________________________________\nconv3_block1_1_conv (Conv2D)    (None, None, None, 1 32896       conv2_block3_out[0][0]           \n__________________________________________________________________________________________________\nconv3_block1_1_bn (BatchNormali (None, None, None, 1 512         conv3_block1_1_conv[0][0]        \n__________________________________________________________________________________________________\nconv3_block1_1_relu (Activation (None, None, None, 1 0           conv3_block1_1_bn[0][0]          \n__________________________________________________________________________________________________\nconv3_block1_2_conv (Conv2D)    (None, None, None, 1 147584      conv3_block1_1_relu[0][0]        \n__________________________________________________________________________________________________\nconv3_block1_2_bn (BatchNormali (None, None, None, 1 512         conv3_block1_2_conv[0][0]        \n__________________________________________________________________________________________________\nconv3_block1_2_relu (Activation (None, None, None, 1 0           conv3_block1_2_bn[0][0]          \n__________________________________________________________________________________________________\nconv3_block1_0_conv (Conv2D)    (None, None, None, 5 131584      conv2_block3_out[0][0]           \n__________________________________________________________________________________________________\nconv3_block1_3_conv (Conv2D)    (None, None, None, 5 66048       conv3_block1_2_relu[0][0]        \n__________________________________________________________________________________________________\nconv3_block1_0_bn (BatchNormali (None, None, None, 5 2048        conv3_block1_0_conv[0][0]        \n__________________________________________________________________________________________________\nconv3_block1_3_bn (BatchNormali (None, None, None, 5 2048        conv3_block1_3_conv[0][0]        \n__________________________________________________________________________________________________\nconv3_block1_add (Add)          (None, None, None, 5 0           conv3_block1_0_bn[0][0]          \n                                                                 conv3_block1_3_bn[0][0]          \n__________________________________________________________________________________________________\nconv3_block1_out (Activation)   (None, None, None, 5 0           conv3_block1_add[0][0]           \n__________________________________________________________________________________________________\nconv3_block2_1_conv (Conv2D)    (None, None, None, 1 65664       conv3_block1_out[0][0]           \n__________________________________________________________________________________________________\nconv3_block2_1_bn (BatchNormali (None, None, None, 1 512         conv3_block2_1_conv[0][0]        \n__________________________________________________________________________________________________\nconv3_block2_1_relu (Activation (None, None, None, 1 0           conv3_block2_1_bn[0][0]          \n__________________________________________________________________________________________________\nconv3_block2_2_conv (Conv2D)    (None, None, None, 1 147584      conv3_block2_1_relu[0][0]        \n__________________________________________________________________________________________________\nconv3_block2_2_bn (BatchNormali (None, None, None, 1 512         conv3_block2_2_conv[0][0]        \n__________________________________________________________________________________________________\nconv3_block2_2_relu (Activation (None, None, None, 1 0           conv3_block2_2_bn[0][0]          \n__________________________________________________________________________________________________\nconv3_block2_3_conv (Conv2D)    (None, None, None, 5 66048       conv3_block2_2_relu[0][0]        \n__________________________________________________________________________________________________\nconv3_block2_3_bn (BatchNormali (None, None, None, 5 2048        conv3_block2_3_conv[0][0]        \n__________________________________________________________________________________________________\nconv3_block2_add (Add)          (None, None, None, 5 0           conv3_block1_out[0][0]           \n                                                                 conv3_block2_3_bn[0][0]          \n__________________________________________________________________________________________________\nconv3_block2_out (Activation)   (None, None, None, 5 0           conv3_block2_add[0][0]           \n__________________________________________________________________________________________________\nconv3_block3_1_conv (Conv2D)    (None, None, None, 1 65664       conv3_block2_out[0][0]           \n__________________________________________________________________________________________________\nconv3_block3_1_bn (BatchNormali (None, None, None, 1 512         conv3_block3_1_conv[0][0]        \n__________________________________________________________________________________________________\nconv3_block3_1_relu (Activation (None, None, None, 1 0           conv3_block3_1_bn[0][0]          \n__________________________________________________________________________________________________\nconv3_block3_2_conv (Conv2D)    (None, None, None, 1 147584      conv3_block3_1_relu[0][0]        \n__________________________________________________________________________________________________\nconv3_block3_2_bn (BatchNormali (None, None, None, 1 512         conv3_block3_2_conv[0][0]        \n__________________________________________________________________________________________________\nconv3_block3_2_relu (Activation (None, None, None, 1 0           conv3_block3_2_bn[0][0]          \n__________________________________________________________________________________________________\nconv3_block3_3_conv (Conv2D)    (None, None, None, 5 66048       conv3_block3_2_relu[0][0]        \n__________________________________________________________________________________________________\nconv3_block3_3_bn (BatchNormali (None, None, None, 5 2048        conv3_block3_3_conv[0][0]        \n__________________________________________________________________________________________________\nconv3_block3_add (Add)          (None, None, None, 5 0           conv3_block2_out[0][0]           \n                                                                 conv3_block3_3_bn[0][0]          \n__________________________________________________________________________________________________\nconv3_block3_out (Activation)   (None, None, None, 5 0           conv3_block3_add[0][0]           \n__________________________________________________________________________________________________\nconv3_block4_1_conv (Conv2D)    (None, None, None, 1 65664       conv3_block3_out[0][0]           \n__________________________________________________________________________________________________\nconv3_block4_1_bn (BatchNormali (None, None, None, 1 512         conv3_block4_1_conv[0][0]        \n__________________________________________________________________________________________________\nconv3_block4_1_relu (Activation (None, None, None, 1 0           conv3_block4_1_bn[0][0]          \n__________________________________________________________________________________________________\nconv3_block4_2_conv (Conv2D)    (None, None, None, 1 147584      conv3_block4_1_relu[0][0]        \n__________________________________________________________________________________________________\nconv3_block4_2_bn (BatchNormali (None, None, None, 1 512         conv3_block4_2_conv[0][0]        \n__________________________________________________________________________________________________\nconv3_block4_2_relu (Activation (None, None, None, 1 0           conv3_block4_2_bn[0][0]          \n__________________________________________________________________________________________________\nconv3_block4_3_conv (Conv2D)    (None, None, None, 5 66048       conv3_block4_2_relu[0][0]        \n__________________________________________________________________________________________________\nconv3_block4_3_bn (BatchNormali (None, None, None, 5 2048        conv3_block4_3_conv[0][0]        \n__________________________________________________________________________________________________\nconv3_block4_add (Add)          (None, None, None, 5 0           conv3_block3_out[0][0]           \n                                                                 conv3_block4_3_bn[0][0]          \n__________________________________________________________________________________________________\nconv3_block4_out (Activation)   (None, None, None, 5 0           conv3_block4_add[0][0]           \n__________________________________________________________________________________________________\nconv4_block1_1_conv (Conv2D)    (None, None, None, 2 131328      conv3_block4_out[0][0]           \n__________________________________________________________________________________________________\nconv4_block1_1_bn (BatchNormali (None, None, None, 2 1024        conv4_block1_1_conv[0][0]        \n__________________________________________________________________________________________________\nconv4_block1_1_relu (Activation (None, None, None, 2 0           conv4_block1_1_bn[0][0]          \n__________________________________________________________________________________________________\nconv4_block1_2_conv (Conv2D)    (None, None, None, 2 590080      conv4_block1_1_relu[0][0]        \n__________________________________________________________________________________________________\nconv4_block1_2_bn (BatchNormali (None, None, None, 2 1024        conv4_block1_2_conv[0][0]        \n__________________________________________________________________________________________________\nconv4_block1_2_relu (Activation (None, None, None, 2 0           conv4_block1_2_bn[0][0]          \n__________________________________________________________________________________________________\nconv4_block1_0_conv (Conv2D)    (None, None, None, 1 525312      conv3_block4_out[0][0]           \n__________________________________________________________________________________________________\nconv4_block1_3_conv (Conv2D)    (None, None, None, 1 263168      conv4_block1_2_relu[0][0]        \n__________________________________________________________________________________________________\nconv4_block1_0_bn (BatchNormali (None, None, None, 1 4096        conv4_block1_0_conv[0][0]        \n__________________________________________________________________________________________________\nconv4_block1_3_bn (BatchNormali (None, None, None, 1 4096        conv4_block1_3_conv[0][0]        \n__________________________________________________________________________________________________\nconv4_block1_add (Add)          (None, None, None, 1 0           conv4_block1_0_bn[0][0]          \n                                                                 conv4_block1_3_bn[0][0]          \n__________________________________________________________________________________________________\nconv4_block1_out (Activation)   (None, None, None, 1 0           conv4_block1_add[0][0]           \n__________________________________________________________________________________________________\nconv4_block2_1_conv (Conv2D)    (None, None, None, 2 262400      conv4_block1_out[0][0]           \n__________________________________________________________________________________________________\nconv4_block2_1_bn (BatchNormali (None, None, None, 2 1024        conv4_block2_1_conv[0][0]        \n__________________________________________________________________________________________________\nconv4_block2_1_relu (Activation (None, None, None, 2 0           conv4_block2_1_bn[0][0]          \n__________________________________________________________________________________________________\nconv4_block2_2_conv (Conv2D)    (None, None, None, 2 590080      conv4_block2_1_relu[0][0]        \n__________________________________________________________________________________________________\nconv4_block2_2_bn (BatchNormali (None, None, None, 2 1024        conv4_block2_2_conv[0][0]        \n__________________________________________________________________________________________________\nconv4_block2_2_relu (Activation (None, None, None, 2 0           conv4_block2_2_bn[0][0]          \n__________________________________________________________________________________________________\nconv4_block2_3_conv (Conv2D)    (None, None, None, 1 263168      conv4_block2_2_relu[0][0]        \n__________________________________________________________________________________________________\nconv4_block2_3_bn (BatchNormali (None, None, None, 1 4096        conv4_block2_3_conv[0][0]        \n__________________________________________________________________________________________________\nconv4_block2_add (Add)          (None, None, None, 1 0           conv4_block1_out[0][0]           \n                                                                 conv4_block2_3_bn[0][0]          \n__________________________________________________________________________________________________\nconv4_block2_out (Activation)   (None, None, None, 1 0           conv4_block2_add[0][0]           \n__________________________________________________________________________________________________\nconv4_block3_1_conv (Conv2D)    (None, None, None, 2 262400      conv4_block2_out[0][0]           \n__________________________________________________________________________________________________\nconv4_block3_1_bn (BatchNormali (None, None, None, 2 1024        conv4_block3_1_conv[0][0]        \n__________________________________________________________________________________________________\nconv4_block3_1_relu (Activation (None, None, None, 2 0           conv4_block3_1_bn[0][0]          \n__________________________________________________________________________________________________\nconv4_block3_2_conv (Conv2D)    (None, None, None, 2 590080      conv4_block3_1_relu[0][0]        \n__________________________________________________________________________________________________\nconv4_block3_2_bn (BatchNormali (None, None, None, 2 1024        conv4_block3_2_conv[0][0]        \n__________________________________________________________________________________________________\nconv4_block3_2_relu (Activation (None, None, None, 2 0           conv4_block3_2_bn[0][0]          \n__________________________________________________________________________________________________\nconv4_block3_3_conv (Conv2D)    (None, None, None, 1 263168      conv4_block3_2_relu[0][0]        \n__________________________________________________________________________________________________\nconv4_block3_3_bn (BatchNormali (None, None, None, 1 4096        conv4_block3_3_conv[0][0]        \n__________________________________________________________________________________________________\nconv4_block3_add (Add)          (None, None, None, 1 0           conv4_block2_out[0][0]           \n                                                                 conv4_block3_3_bn[0][0]          \n__________________________________________________________________________________________________\nconv4_block3_out (Activation)   (None, None, None, 1 0           conv4_block3_add[0][0]           \n__________________________________________________________________________________________________\nconv4_block4_1_conv (Conv2D)    (None, None, None, 2 262400      conv4_block3_out[0][0]           \n__________________________________________________________________________________________________\nconv4_block4_1_bn (BatchNormali (None, None, None, 2 1024        conv4_block4_1_conv[0][0]        \n__________________________________________________________________________________________________\nconv4_block4_1_relu (Activation (None, None, None, 2 0           conv4_block4_1_bn[0][0]          \n__________________________________________________________________________________________________\nconv4_block4_2_conv (Conv2D)    (None, None, None, 2 590080      conv4_block4_1_relu[0][0]        \n__________________________________________________________________________________________________\nconv4_block4_2_bn (BatchNormali (None, None, None, 2 1024        conv4_block4_2_conv[0][0]        \n__________________________________________________________________________________________________\nconv4_block4_2_relu (Activation (None, None, None, 2 0           conv4_block4_2_bn[0][0]          \n__________________________________________________________________________________________________\nconv4_block4_3_conv (Conv2D)    (None, None, None, 1 263168      conv4_block4_2_relu[0][0]        \n__________________________________________________________________________________________________\nconv4_block4_3_bn (BatchNormali (None, None, None, 1 4096        conv4_block4_3_conv[0][0]        \n__________________________________________________________________________________________________\nconv4_block4_add (Add)          (None, None, None, 1 0           conv4_block3_out[0][0]           \n                                                                 conv4_block4_3_bn[0][0]          \n__________________________________________________________________________________________________\nconv4_block4_out (Activation)   (None, None, None, 1 0           conv4_block4_add[0][0]           \n__________________________________________________________________________________________________\nconv4_block5_1_conv (Conv2D)    (None, None, None, 2 262400      conv4_block4_out[0][0]           \n__________________________________________________________________________________________________\nconv4_block5_1_bn (BatchNormali (None, None, None, 2 1024        conv4_block5_1_conv[0][0]        \n__________________________________________________________________________________________________\nconv4_block5_1_relu (Activation (None, None, None, 2 0           conv4_block5_1_bn[0][0]          \n__________________________________________________________________________________________________\nconv4_block5_2_conv (Conv2D)    (None, None, None, 2 590080      conv4_block5_1_relu[0][0]        \n__________________________________________________________________________________________________\nconv4_block5_2_bn (BatchNormali (None, None, None, 2 1024        conv4_block5_2_conv[0][0]        \n__________________________________________________________________________________________________\nconv4_block5_2_relu (Activation (None, None, None, 2 0           conv4_block5_2_bn[0][0]          \n__________________________________________________________________________________________________\nconv4_block5_3_conv (Conv2D)    (None, None, None, 1 263168      conv4_block5_2_relu[0][0]        \n__________________________________________________________________________________________________\nconv4_block5_3_bn (BatchNormali (None, None, None, 1 4096        conv4_block5_3_conv[0][0]        \n__________________________________________________________________________________________________\nconv4_block5_add (Add)          (None, None, None, 1 0           conv4_block4_out[0][0]           \n                                                                 conv4_block5_3_bn[0][0]          \n__________________________________________________________________________________________________\nconv4_block5_out (Activation)   (None, None, None, 1 0           conv4_block5_add[0][0]           \n__________________________________________________________________________________________________\nconv4_block6_1_conv (Conv2D)    (None, None, None, 2 262400      conv4_block5_out[0][0]           \n__________________________________________________________________________________________________\nconv4_block6_1_bn (BatchNormali (None, None, None, 2 1024        conv4_block6_1_conv[0][0]        \n__________________________________________________________________________________________________\nconv4_block6_1_relu (Activation (None, None, None, 2 0           conv4_block6_1_bn[0][0]          \n__________________________________________________________________________________________________\nconv4_block6_2_conv (Conv2D)    (None, None, None, 2 590080      conv4_block6_1_relu[0][0]        \n__________________________________________________________________________________________________\nconv4_block6_2_bn (BatchNormali (None, None, None, 2 1024        conv4_block6_2_conv[0][0]        \n__________________________________________________________________________________________________\nconv4_block6_2_relu (Activation (None, None, None, 2 0           conv4_block6_2_bn[0][0]          \n__________________________________________________________________________________________________\nconv4_block6_3_conv (Conv2D)    (None, None, None, 1 263168      conv4_block6_2_relu[0][0]        \n__________________________________________________________________________________________________\nconv4_block6_3_bn (BatchNormali (None, None, None, 1 4096        conv4_block6_3_conv[0][0]        \n__________________________________________________________________________________________________\nconv4_block6_add (Add)          (None, None, None, 1 0           conv4_block5_out[0][0]           \n                                                                 conv4_block6_3_bn[0][0]          \n__________________________________________________________________________________________________\nconv4_block6_out (Activation)   (None, None, None, 1 0           conv4_block6_add[0][0]           \n__________________________________________________________________________________________________\nconv5_block1_1_conv (Conv2D)    (None, None, None, 5 524800      conv4_block6_out[0][0]           \n__________________________________________________________________________________________________\nconv5_block1_1_bn (BatchNormali (None, None, None, 5 2048        conv5_block1_1_conv[0][0]        \n__________________________________________________________________________________________________\nconv5_block1_1_relu (Activation (None, None, None, 5 0           conv5_block1_1_bn[0][0]          \n__________________________________________________________________________________________________\nconv5_block1_2_conv (Conv2D)    (None, None, None, 5 2359808     conv5_block1_1_relu[0][0]        \n__________________________________________________________________________________________________\nconv5_block1_2_bn (BatchNormali (None, None, None, 5 2048        conv5_block1_2_conv[0][0]        \n__________________________________________________________________________________________________\nconv5_block1_2_relu (Activation (None, None, None, 5 0           conv5_block1_2_bn[0][0]          \n__________________________________________________________________________________________________\nconv5_block1_0_conv (Conv2D)    (None, None, None, 2 2099200     conv4_block6_out[0][0]           \n__________________________________________________________________________________________________\nconv5_block1_3_conv (Conv2D)    (None, None, None, 2 1050624     conv5_block1_2_relu[0][0]        \n__________________________________________________________________________________________________\nconv5_block1_0_bn (BatchNormali (None, None, None, 2 8192        conv5_block1_0_conv[0][0]        \n__________________________________________________________________________________________________\nconv5_block1_3_bn (BatchNormali (None, None, None, 2 8192        conv5_block1_3_conv[0][0]        \n__________________________________________________________________________________________________\nconv5_block1_add (Add)          (None, None, None, 2 0           conv5_block1_0_bn[0][0]          \n                                                                 conv5_block1_3_bn[0][0]          \n__________________________________________________________________________________________________\nconv5_block1_out (Activation)   (None, None, None, 2 0           conv5_block1_add[0][0]           \n__________________________________________________________________________________________________\nconv5_block2_1_conv (Conv2D)    (None, None, None, 5 1049088     conv5_block1_out[0][0]           \n__________________________________________________________________________________________________\nconv5_block2_1_bn (BatchNormali (None, None, None, 5 2048        conv5_block2_1_conv[0][0]        \n__________________________________________________________________________________________________\nconv5_block2_1_relu (Activation (None, None, None, 5 0           conv5_block2_1_bn[0][0]          \n__________________________________________________________________________________________________\nconv5_block2_2_conv (Conv2D)    (None, None, None, 5 2359808     conv5_block2_1_relu[0][0]        \n__________________________________________________________________________________________________\nconv5_block2_2_bn (BatchNormali (None, None, None, 5 2048        conv5_block2_2_conv[0][0]        \n__________________________________________________________________________________________________\nconv5_block2_2_relu (Activation (None, None, None, 5 0           conv5_block2_2_bn[0][0]          \n__________________________________________________________________________________________________\nconv5_block2_3_conv (Conv2D)    (None, None, None, 2 1050624     conv5_block2_2_relu[0][0]        \n__________________________________________________________________________________________________\nconv5_block2_3_bn (BatchNormali (None, None, None, 2 8192        conv5_block2_3_conv[0][0]        \n__________________________________________________________________________________________________\nconv5_block2_add (Add)          (None, None, None, 2 0           conv5_block1_out[0][0]           \n                                                                 conv5_block2_3_bn[0][0]          \n__________________________________________________________________________________________________\nconv5_block2_out (Activation)   (None, None, None, 2 0           conv5_block2_add[0][0]           \n__________________________________________________________________________________________________\nconv5_block3_1_conv (Conv2D)    (None, None, None, 5 1049088     conv5_block2_out[0][0]           \n__________________________________________________________________________________________________\nconv5_block3_1_bn (BatchNormali (None, None, None, 5 2048        conv5_block3_1_conv[0][0]        \n__________________________________________________________________________________________________\nconv5_block3_1_relu (Activation (None, None, None, 5 0           conv5_block3_1_bn[0][0]          \n__________________________________________________________________________________________________\nconv5_block3_2_conv (Conv2D)    (None, None, None, 5 2359808     conv5_block3_1_relu[0][0]        \n__________________________________________________________________________________________________\nconv5_block3_2_bn (BatchNormali (None, None, None, 5 2048        conv5_block3_2_conv[0][0]        \n__________________________________________________________________________________________________\nconv5_block3_2_relu (Activation (None, None, None, 5 0           conv5_block3_2_bn[0][0]          \n__________________________________________________________________________________________________\nconv5_block3_3_conv (Conv2D)    (None, None, None, 2 1050624     conv5_block3_2_relu[0][0]        \n__________________________________________________________________________________________________\nconv5_block3_3_bn (BatchNormali (None, None, None, 2 8192        conv5_block3_3_conv[0][0]        \n__________________________________________________________________________________________________\nconv5_block3_add (Add)          (None, None, None, 2 0           conv5_block2_out[0][0]           \n                                                                 conv5_block3_3_bn[0][0]          \n__________________________________________________________________________________________________\nconv5_block3_out (Activation)   (None, None, None, 2 0           conv5_block3_add[0][0]           \n==================================================================================================\nTotal params: 23,587,712\nTrainable params: 23,534,592\nNon-trainable params: 53,120\n__________________________________________________________________________________________________\n</div>",
       "datasetInfos": [],
       "metadata": {},
       "removedWidgets": [],
       "type": "html"
      }
     },
     "output_type": "display_data"
    }
   ],
   "source": [
    "# chargement du CNN pré-entraîné\n",
    "model = ResNet50(include_top=False)\n",
    "model.summary()  # verify that the top layer is removed"
   ]
  },
  {
   "cell_type": "code",
   "execution_count": 0,
   "metadata": {
    "application/vnd.databricks.v1+cell": {
     "inputWidgets": {},
     "nuid": "64e506ad-6bd4-42f4-88f1-bf83343a35f8",
     "showTitle": false,
     "title": ""
    }
   },
   "outputs": [
    {
     "data": {
      "text/html": [
       "<style scoped>\n",
       "  .ansiout {\n",
       "    display: block;\n",
       "    unicode-bidi: embed;\n",
       "    white-space: pre-wrap;\n",
       "    word-wrap: break-word;\n",
       "    word-break: break-all;\n",
       "    font-family: \"Source Code Pro\", \"Menlo\", monospace;;\n",
       "    font-size: 13px;\n",
       "    color: #555;\n",
       "    margin-left: 4px;\n",
       "    line-height: 19px;\n",
       "  }\n",
       "</style>\n",
       "<div class=\"ansiout\"></div>"
      ]
     },
     "metadata": {
      "application/vnd.databricks.v1+output": {
       "addedWidgets": {},
       "arguments": {},
       "data": "<div class=\"ansiout\"></div>",
       "datasetInfos": [],
       "metadata": {},
       "removedWidgets": [],
       "type": "html"
      }
     },
     "output_type": "display_data"
    }
   ],
   "source": [
    "bc_model_weights = sc.broadcast(model.get_weights())\n",
    "\n",
    "def model_fn():\n",
    "  \"\"\"\n",
    "  Returns a ResNet50 model with top layer removed and broadcasted pretrained weights.\n",
    "  \"\"\"\n",
    "  model = ResNet50(weights=None, include_top=False)\n",
    "  #model = VGG16(weights=None, include_top=False)\n",
    "  #model = InceptionResNetV2(weights=None, include_top=False)\n",
    "  model.set_weights(bc_model_weights.value)\n",
    "  return model"
   ]
  },
  {
   "cell_type": "code",
   "execution_count": 0,
   "metadata": {
    "application/vnd.databricks.v1+cell": {
     "inputWidgets": {},
     "nuid": "4517e35b-9f1d-4861-a235-e988c894e8f4",
     "showTitle": false,
     "title": ""
    }
   },
   "outputs": [
    {
     "data": {
      "text/html": [
       "<style scoped>\n",
       "  .ansiout {\n",
       "    display: block;\n",
       "    unicode-bidi: embed;\n",
       "    white-space: pre-wrap;\n",
       "    word-wrap: break-word;\n",
       "    word-break: break-all;\n",
       "    font-family: \"Source Code Pro\", \"Menlo\", monospace;;\n",
       "    font-size: 13px;\n",
       "    color: #555;\n",
       "    margin-left: 4px;\n",
       "    line-height: 19px;\n",
       "  }\n",
       "</style>\n",
       "<div class=\"ansiout\"></div>"
      ]
     },
     "metadata": {
      "application/vnd.databricks.v1+output": {
       "addedWidgets": {},
       "arguments": {},
       "data": "<div class=\"ansiout\"></div>",
       "datasetInfos": [],
       "metadata": {},
       "removedWidgets": [],
       "type": "html"
      }
     },
     "output_type": "display_data"
    }
   ],
   "source": [
    "def preprocess(content):\n",
    "  \"\"\"\n",
    "  Preprocesses raw image bytes for prediction.\n",
    "  \"\"\"\n",
    "  img = Image.open(io.BytesIO(content)).resize([224, 224])\n",
    "  arr = img_to_array(img)\n",
    "  return preprocess_input(arr)\n",
    "\n",
    "def featurize_series(model, content_series):\n",
    "  \"\"\"\n",
    "  Featurize a pd.Series of raw images using the input model.\n",
    "  :return: a pd.Series of image features\n",
    "  \"\"\"\n",
    "  input = np.stack(content_series.map(preprocess))\n",
    "  preds = model.predict(input)\n",
    "  # For some layers, output features will be multi-dimensional tensors.\n",
    "  # We flatten the feature tensors to vectors for easier storage in Spark DataFrames.\n",
    "  output = [p.flatten() for p in preds]\n",
    "  return pd.Series(output)"
   ]
  },
  {
   "cell_type": "code",
   "execution_count": 0,
   "metadata": {
    "application/vnd.databricks.v1+cell": {
     "inputWidgets": {},
     "nuid": "f58b7dab-d4fc-4cae-8f75-8e284e4d1a1d",
     "showTitle": false,
     "title": ""
    }
   },
   "outputs": [
    {
     "data": {
      "text/html": [
       "<style scoped>\n",
       "  .ansiout {\n",
       "    display: block;\n",
       "    unicode-bidi: embed;\n",
       "    white-space: pre-wrap;\n",
       "    word-wrap: break-word;\n",
       "    word-break: break-all;\n",
       "    font-family: \"Source Code Pro\", \"Menlo\", monospace;;\n",
       "    font-size: 13px;\n",
       "    color: #555;\n",
       "    margin-left: 4px;\n",
       "    line-height: 19px;\n",
       "  }\n",
       "</style>\n",
       "<div class=\"ansiout\">/databricks/spark/python/pyspark/sql/pandas/functions.py:386: UserWarning: In Python 3.6+ and Spark 3.0+, it is preferred to specify type hints for pandas UDF instead of specifying pandas UDF type which will be deprecated in the future releases. See SPARK-28264 for more details.\n",
       "  warnings.warn(\n",
       "</div>"
      ]
     },
     "metadata": {
      "application/vnd.databricks.v1+output": {
       "addedWidgets": {},
       "arguments": {},
       "data": "<div class=\"ansiout\">/databricks/spark/python/pyspark/sql/pandas/functions.py:386: UserWarning: In Python 3.6+ and Spark 3.0+, it is preferred to specify type hints for pandas UDF instead of specifying pandas UDF type which will be deprecated in the future releases. See SPARK-28264 for more details.\n  warnings.warn(\n</div>",
       "datasetInfos": [],
       "metadata": {},
       "removedWidgets": [],
       "type": "html"
      }
     },
     "output_type": "display_data"
    }
   ],
   "source": [
    "@pandas_udf('array<float>', PandasUDFType.SCALAR_ITER)\n",
    "def featurize_udf(content_series_iter):\n",
    "  '''\n",
    "  This method is a Scalar Iterator pandas UDF wrapping our featurization function.\n",
    "  The decorator specifies that this returns a Spark DataFrame column of type ArrayType(FloatType).\n",
    "  \n",
    "  :param content_series_iter: This argument is an iterator over batches of data, where each batch\n",
    "                              is a pandas Series of image data.\n",
    "  '''\n",
    "  # With Scalar Iterator pandas UDFs, we can load the model once and then re-use it\n",
    "  # for multiple data batches.  This amortizes the overhead of loading big models.\n",
    "  model = model_fn()\n",
    "  for content_series in content_series_iter:\n",
    "    yield featurize_series(model, content_series)"
   ]
  },
  {
   "cell_type": "code",
   "execution_count": 0,
   "metadata": {
    "application/vnd.databricks.v1+cell": {
     "inputWidgets": {},
     "nuid": "b980e7b0-f120-4b19-8237-2e10f0ac53cc",
     "showTitle": false,
     "title": ""
    }
   },
   "outputs": [
    {
     "data": {
      "text/html": [
       "<style scoped>\n",
       "  .ansiout {\n",
       "    display: block;\n",
       "    unicode-bidi: embed;\n",
       "    white-space: pre-wrap;\n",
       "    word-wrap: break-word;\n",
       "    word-break: break-all;\n",
       "    font-family: \"Source Code Pro\", \"Menlo\", monospace;;\n",
       "    font-size: 13px;\n",
       "    color: #555;\n",
       "    margin-left: 4px;\n",
       "    line-height: 19px;\n",
       "  }\n",
       "</style>\n",
       "<div class=\"ansiout\">+--------------------+-----------+--------------------+\n",
       "                path|      label|            features|\n",
       "+--------------------+-----------+--------------------+\n",
       "dbfs:/mnt/fruit-3...|apple_hit_1|[0.0, 0.0, 0.0, 0...|\n",
       "dbfs:/mnt/fruit-3...|apple_hit_1|[0.0, 0.0, 0.0, 0...|\n",
       "dbfs:/mnt/fruit-3...|apple_hit_1|[0.0, 0.0, 0.0, 0...|\n",
       "dbfs:/mnt/fruit-3...|apple_hit_1|[0.0, 0.0, 0.0, 0...|\n",
       "dbfs:/mnt/fruit-3...|apple_hit_1|[0.0, 0.0, 0.0, 0...|\n",
       "dbfs:/mnt/fruit-3...|apple_hit_1|[0.0, 0.0, 0.0, 0...|\n",
       "dbfs:/mnt/fruit-3...|apple_hit_1|[0.0, 0.0, 0.0, 0...|\n",
       "dbfs:/mnt/fruit-3...|apple_hit_1|[0.0, 0.0, 0.0, 0...|\n",
       "dbfs:/mnt/fruit-3...|apple_hit_1|[0.0, 0.0, 0.0, 0...|\n",
       "dbfs:/mnt/fruit-3...|apple_hit_1|[0.0, 0.0, 0.0, 0...|\n",
       "dbfs:/mnt/fruit-3...|apple_hit_1|[0.0, 0.0, 0.0, 0...|\n",
       "dbfs:/mnt/fruit-3...|apple_hit_1|[0.0, 0.0, 0.0, 0...|\n",
       "dbfs:/mnt/fruit-3...|apple_hit_1|[0.0, 0.0, 0.0, 0...|\n",
       "dbfs:/mnt/fruit-3...|apple_hit_1|[0.0, 0.0, 0.0, 0...|\n",
       "dbfs:/mnt/fruit-3...|apple_hit_1|[0.0, 0.0, 0.0, 0...|\n",
       "dbfs:/mnt/fruit-3...|apple_hit_1|[0.0, 0.0, 0.0, 0...|\n",
       "dbfs:/mnt/fruit-3...|apple_hit_1|[0.0, 0.0, 0.0, 0...|\n",
       "dbfs:/mnt/fruit-3...|apple_hit_1|[0.0, 0.0, 0.0, 0...|\n",
       "dbfs:/mnt/fruit-3...|apple_hit_1|[0.0, 0.0, 0.0, 0...|\n",
       "dbfs:/mnt/fruit-3...|apple_hit_1|[0.0, 0.0, 0.0, 0...|\n",
       "+--------------------+-----------+--------------------+\n",
       "only showing top 20 rows\n",
       "\n",
       "</div>"
      ]
     },
     "metadata": {
      "application/vnd.databricks.v1+output": {
       "addedWidgets": {},
       "arguments": {},
       "data": "<div class=\"ansiout\">+--------------------+-----------+--------------------+\n|                path|      label|            features|\n+--------------------+-----------+--------------------+\n|dbfs:/mnt/fruit-3...|apple_hit_1|[0.0, 0.0, 0.0, 0...|\n|dbfs:/mnt/fruit-3...|apple_hit_1|[0.0, 0.0, 0.0, 0...|\n|dbfs:/mnt/fruit-3...|apple_hit_1|[0.0, 0.0, 0.0, 0...|\n|dbfs:/mnt/fruit-3...|apple_hit_1|[0.0, 0.0, 0.0, 0...|\n|dbfs:/mnt/fruit-3...|apple_hit_1|[0.0, 0.0, 0.0, 0...|\n|dbfs:/mnt/fruit-3...|apple_hit_1|[0.0, 0.0, 0.0, 0...|\n|dbfs:/mnt/fruit-3...|apple_hit_1|[0.0, 0.0, 0.0, 0...|\n|dbfs:/mnt/fruit-3...|apple_hit_1|[0.0, 0.0, 0.0, 0...|\n|dbfs:/mnt/fruit-3...|apple_hit_1|[0.0, 0.0, 0.0, 0...|\n|dbfs:/mnt/fruit-3...|apple_hit_1|[0.0, 0.0, 0.0, 0...|\n|dbfs:/mnt/fruit-3...|apple_hit_1|[0.0, 0.0, 0.0, 0...|\n|dbfs:/mnt/fruit-3...|apple_hit_1|[0.0, 0.0, 0.0, 0...|\n|dbfs:/mnt/fruit-3...|apple_hit_1|[0.0, 0.0, 0.0, 0...|\n|dbfs:/mnt/fruit-3...|apple_hit_1|[0.0, 0.0, 0.0, 0...|\n|dbfs:/mnt/fruit-3...|apple_hit_1|[0.0, 0.0, 0.0, 0...|\n|dbfs:/mnt/fruit-3...|apple_hit_1|[0.0, 0.0, 0.0, 0...|\n|dbfs:/mnt/fruit-3...|apple_hit_1|[0.0, 0.0, 0.0, 0...|\n|dbfs:/mnt/fruit-3...|apple_hit_1|[0.0, 0.0, 0.0, 0...|\n|dbfs:/mnt/fruit-3...|apple_hit_1|[0.0, 0.0, 0.0, 0...|\n|dbfs:/mnt/fruit-3...|apple_hit_1|[0.0, 0.0, 0.0, 0...|\n+--------------------+-----------+--------------------+\nonly showing top 20 rows\n\n</div>",
       "datasetInfos": [],
       "metadata": {},
       "removedWidgets": [],
       "type": "html"
      }
     },
     "output_type": "display_data"
    }
   ],
   "source": [
    "# étape de featurisation des images\n",
    "features_df = images.select(col(\"path\"), col(\"label\"), featurize_udf(\"content\").alias(\"features\"))\n",
    "features_df.show()"
   ]
  },
  {
   "cell_type": "code",
   "execution_count": 0,
   "metadata": {
    "application/vnd.databricks.v1+cell": {
     "inputWidgets": {},
     "nuid": "25eda139-569d-4699-80bf-3781202fb942",
     "showTitle": false,
     "title": ""
    }
   },
   "outputs": [
    {
     "data": {
      "text/html": [
       "<style scoped>\n",
       "  .ansiout {\n",
       "    display: block;\n",
       "    unicode-bidi: embed;\n",
       "    white-space: pre-wrap;\n",
       "    word-wrap: break-word;\n",
       "    word-break: break-all;\n",
       "    font-family: \"Source Code Pro\", \"Menlo\", monospace;;\n",
       "    font-size: 13px;\n",
       "    color: #555;\n",
       "    margin-left: 4px;\n",
       "    line-height: 19px;\n",
       "  }\n",
       "</style>\n",
       "<div class=\"ansiout\"></div>"
      ]
     },
     "metadata": {
      "application/vnd.databricks.v1+output": {
       "addedWidgets": {},
       "arguments": {},
       "data": "<div class=\"ansiout\"></div>",
       "datasetInfos": [],
       "metadata": {},
       "removedWidgets": [],
       "type": "html"
      }
     },
     "output_type": "display_data"
    }
   ],
   "source": [
    "list_to_vector_udf = udf(lambda l: Vectors.dense(l), VectorUDT())\n",
    "features_df = features_df.select(col(\"path\"), col(\"label\"), list_to_vector_udf(features_df[\"features\"]).alias(\"features\"))"
   ]
  },
  {
   "cell_type": "code",
   "execution_count": 0,
   "metadata": {
    "application/vnd.databricks.v1+cell": {
     "inputWidgets": {},
     "nuid": "41b86c72-d814-420b-b14c-e31552dc5ecb",
     "showTitle": false,
     "title": ""
    }
   },
   "outputs": [
    {
     "data": {
      "text/html": [
       "<style scoped>\n",
       "  .ansiout {\n",
       "    display: block;\n",
       "    unicode-bidi: embed;\n",
       "    white-space: pre-wrap;\n",
       "    word-wrap: break-word;\n",
       "    word-break: break-all;\n",
       "    font-family: \"Source Code Pro\", \"Menlo\", monospace;;\n",
       "    font-size: 13px;\n",
       "    color: #555;\n",
       "    margin-left: 4px;\n",
       "    line-height: 19px;\n",
       "  }\n",
       "</style>\n",
       "<div class=\"ansiout\"></div>"
      ]
     },
     "metadata": {
      "application/vnd.databricks.v1+output": {
       "addedWidgets": {},
       "arguments": {},
       "data": "<div class=\"ansiout\"></div>",
       "datasetInfos": [],
       "metadata": {},
       "removedWidgets": [],
       "type": "html"
      }
     },
     "output_type": "display_data"
    }
   ],
   "source": [
    "# normalisation des variables (dimensions de l'espace de plongement)\n",
    "standardizer = StandardScaler(withMean=True, withStd=True,\n",
    "                              inputCol='features',\n",
    "                              outputCol='feats_scaled')\n",
    "std = standardizer.fit(features_df)\n",
    "features_df_scaled = std.transform(features_df)"
   ]
  },
  {
   "cell_type": "code",
   "execution_count": 0,
   "metadata": {
    "application/vnd.databricks.v1+cell": {
     "inputWidgets": {},
     "nuid": "28d1f91b-2014-4689-b6a7-11ebe8975397",
     "showTitle": false,
     "title": ""
    }
   },
   "outputs": [
    {
     "data": {
      "text/html": [
       "<style scoped>\n",
       "  .ansiout {\n",
       "    display: block;\n",
       "    unicode-bidi: embed;\n",
       "    white-space: pre-wrap;\n",
       "    word-wrap: break-word;\n",
       "    word-break: break-all;\n",
       "    font-family: \"Source Code Pro\", \"Menlo\", monospace;;\n",
       "    font-size: 13px;\n",
       "    color: #555;\n",
       "    margin-left: 4px;\n",
       "    line-height: 19px;\n",
       "  }\n",
       "</style>\n",
       "<div class=\"ansiout\"></div>"
      ]
     },
     "metadata": {
      "application/vnd.databricks.v1+output": {
       "addedWidgets": {},
       "arguments": {},
       "data": "<div class=\"ansiout\"></div>",
       "datasetInfos": [],
       "metadata": {},
       "removedWidgets": [],
       "type": "html"
      }
     },
     "output_type": "display_data"
    }
   ],
   "source": [
    "# les images d'un même fruit sont très  similaires (diffèrent par une petite rotation) \n",
    "# on se limite donc à un sous-échantillon pour l'entraînement de la PCA\n",
    "features_df_scaled_tr = features_df_scaled.sample(fraction = 0.1)"
   ]
  },
  {
   "cell_type": "code",
   "execution_count": 0,
   "metadata": {
    "application/vnd.databricks.v1+cell": {
     "inputWidgets": {},
     "nuid": "722e01e9-37f7-4cf4-aadc-521410b67257",
     "showTitle": false,
     "title": ""
    }
   },
   "outputs": [
    {
     "data": {
      "text/html": [
       "<style scoped>\n",
       "  .ansiout {\n",
       "    display: block;\n",
       "    unicode-bidi: embed;\n",
       "    white-space: pre-wrap;\n",
       "    word-wrap: break-word;\n",
       "    word-break: break-all;\n",
       "    font-family: \"Source Code Pro\", \"Menlo\", monospace;;\n",
       "    font-size: 13px;\n",
       "    color: #555;\n",
       "    margin-left: 4px;\n",
       "    line-height: 19px;\n",
       "  }\n",
       "</style>\n",
       "<div class=\"ansiout\">Out[15]: 626</div>"
      ]
     },
     "metadata": {
      "application/vnd.databricks.v1+output": {
       "addedWidgets": {},
       "arguments": {},
       "data": "<div class=\"ansiout\">Out[15]: 626</div>",
       "datasetInfos": [],
       "metadata": {},
       "removedWidgets": [],
       "type": "html"
      }
     },
     "output_type": "display_data"
    }
   ],
   "source": [
    "features_df_scaled_tr.count()"
   ]
  },
  {
   "cell_type": "code",
   "execution_count": 0,
   "metadata": {
    "application/vnd.databricks.v1+cell": {
     "inputWidgets": {},
     "nuid": "2a5c4df2-698d-48b4-a820-988a14ab0d28",
     "showTitle": false,
     "title": ""
    }
   },
   "outputs": [
    {
     "data": {
      "text/html": [
       "<style scoped>\n",
       "  .ansiout {\n",
       "    display: block;\n",
       "    unicode-bidi: embed;\n",
       "    white-space: pre-wrap;\n",
       "    word-wrap: break-word;\n",
       "    word-break: break-all;\n",
       "    font-family: \"Source Code Pro\", \"Menlo\", monospace;;\n",
       "    font-size: 13px;\n",
       "    color: #555;\n",
       "    margin-left: 4px;\n",
       "    line-height: 19px;\n",
       "  }\n",
       "</style>\n",
       "<div class=\"ansiout\"></div>"
      ]
     },
     "metadata": {
      "application/vnd.databricks.v1+output": {
       "addedWidgets": {},
       "arguments": {},
       "data": "<div class=\"ansiout\"></div>",
       "datasetInfos": [],
       "metadata": {},
       "removedWidgets": [],
       "type": "html"
      }
     },
     "output_type": "display_data"
    }
   ],
   "source": [
    "# nombre de composantes principales\n",
    "n_pc = 100\n",
    "# entraînement et application d'une PCA\n",
    "pca = PCA(k=n_pc, inputCol=\"feats_scaled\", outputCol=\"pca\")\n",
    "#modelpca = pca.fit(features_df_scaled)\n",
    "modelpca = pca.fit(features_df_scaled_tr)"
   ]
  },
  {
   "cell_type": "code",
   "execution_count": 0,
   "metadata": {
    "application/vnd.databricks.v1+cell": {
     "inputWidgets": {},
     "nuid": "057cb040-49e1-484d-b0ab-36f4c9091d40",
     "showTitle": false,
     "title": ""
    }
   },
   "outputs": [
    {
     "data": {
      "text/html": [
       "<style scoped>\n",
       "  .ansiout {\n",
       "    display: block;\n",
       "    unicode-bidi: embed;\n",
       "    white-space: pre-wrap;\n",
       "    word-wrap: break-word;\n",
       "    word-break: break-all;\n",
       "    font-family: \"Source Code Pro\", \"Menlo\", monospace;;\n",
       "    font-size: 13px;\n",
       "    color: #555;\n",
       "    margin-left: 4px;\n",
       "    line-height: 19px;\n",
       "  }\n",
       "</style>\n",
       "<div class=\"ansiout\"></div>"
      ]
     },
     "metadata": {
      "application/vnd.databricks.v1+output": {
       "addedWidgets": {},
       "arguments": {},
       "data": "<div class=\"ansiout\"></div>",
       "datasetInfos": [],
       "metadata": {},
       "removedWidgets": [],
       "type": "html"
      }
     },
     "output_type": "display_data"
    }
   ],
   "source": [
    "transformed = modelpca.transform(features_df_scaled)"
   ]
  },
  {
   "cell_type": "code",
   "execution_count": 0,
   "metadata": {
    "application/vnd.databricks.v1+cell": {
     "inputWidgets": {},
     "nuid": "13921964-8b96-47f9-baea-f28908cc6e34",
     "showTitle": false,
     "title": ""
    }
   },
   "outputs": [
    {
     "data": {
      "text/html": [
       "<style scoped>\n",
       "  .ansiout {\n",
       "    display: block;\n",
       "    unicode-bidi: embed;\n",
       "    white-space: pre-wrap;\n",
       "    word-wrap: break-word;\n",
       "    word-break: break-all;\n",
       "    font-family: \"Source Code Pro\", \"Menlo\", monospace;;\n",
       "    font-size: 13px;\n",
       "    color: #555;\n",
       "    margin-left: 4px;\n",
       "    line-height: 19px;\n",
       "  }\n",
       "</style>\n",
       "<div class=\"ansiout\">Out[19]: 5905</div>"
      ]
     },
     "metadata": {
      "application/vnd.databricks.v1+output": {
       "addedWidgets": {},
       "arguments": {},
       "data": "<div class=\"ansiout\">Out[19]: 5905</div>",
       "datasetInfos": [],
       "metadata": {},
       "removedWidgets": [],
       "type": "html"
      }
     },
     "output_type": "display_data"
    }
   ],
   "source": [
    "features_df_scaled.count()"
   ]
  },
  {
   "cell_type": "code",
   "execution_count": 0,
   "metadata": {
    "application/vnd.databricks.v1+cell": {
     "inputWidgets": {},
     "nuid": "7189e80f-43f0-435f-bb3c-e0217a0d3da5",
     "showTitle": false,
     "title": ""
    }
   },
   "outputs": [
    {
     "data": {
      "image/png": "[encoded data removed]"
     },
     "metadata": {
      "application/vnd.databricks.v1+output": {
       "addedWidgets": {},
       "arguments": {},
       "data": "data:image/png;base64,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",
       "datasetInfos": [],
       "metadata": {
        "imageDimensions": {
         "height": 295,
         "width": 421
        }
       },
       "removedWidgets": [],
       "type": "image"
      },
      "image/png": {
       "height": 295,
       "width": 421
      }
     },
     "output_type": "display_data"
    }
   ],
   "source": [
    "# plot du % de variance expliquée en fonction du nombre de PC\n",
    "var = modelpca.explainedVariance.cumsum()\n",
    "sns.set_context(context='poster', font_scale=0.8)\n",
    "sns.lineplot(x=[i for i in range(n_pc + 1)], y=np.insert(var,0,0)*100, color='deepskyblue')\n",
    "plt.xlabel('PCs')\n",
    "plt.ylabel('Variance (%)')\n",
    "plt.ylim(0,100)\n",
    "plt.xlim(left=0)\n",
    "plt.show()"
   ]
  },
  {
   "cell_type": "code",
   "execution_count": 0,
   "metadata": {
    "application/vnd.databricks.v1+cell": {
     "inputWidgets": {},
     "nuid": "1ff69a02-cc55-4902-853e-c79378050cd4",
     "showTitle": false,
     "title": ""
    }
   },
   "outputs": [
    {
     "data": {
      "text/html": [
       "<style scoped>\n",
       "  .ansiout {\n",
       "    display: block;\n",
       "    unicode-bidi: embed;\n",
       "    white-space: pre-wrap;\n",
       "    word-wrap: break-word;\n",
       "    word-break: break-all;\n",
       "    font-family: \"Source Code Pro\", \"Menlo\", monospace;;\n",
       "    font-size: 13px;\n",
       "    color: #555;\n",
       "    margin-left: 4px;\n",
       "    line-height: 19px;\n",
       "  }\n",
       "</style>\n",
       "<div class=\"ansiout\">0.009653678107931104\n",
       "</div>"
      ]
     },
     "metadata": {
      "application/vnd.databricks.v1+output": {
       "addedWidgets": {},
       "arguments": {},
       "data": "<div class=\"ansiout\">0.009653678107931104\n</div>",
       "datasetInfos": [],
       "metadata": {},
       "removedWidgets": [],
       "type": "html"
      }
     },
     "output_type": "display_data"
    }
   ],
   "source": [
    "exvar = modelpca.explainedVariance\n",
    "\n",
    "ipc_cut = 0\n",
    "threshold = 0.01\n",
    "\n",
    "for elt in exvar:\n",
    "    #print(elt)\n",
    "    if elt < threshold:\n",
    "        print(elt)\n",
    "        ipc_cut = np.where(exvar.values == elt)\n",
    "        break"
   ]
  },
  {
   "cell_type": "code",
   "execution_count": 0,
   "metadata": {
    "application/vnd.databricks.v1+cell": {
     "inputWidgets": {},
     "nuid": "23d292f7-b703-4a85-b134-e0c916e75ac9",
     "showTitle": false,
     "title": ""
    }
   },
   "outputs": [
    {
     "data": {
      "text/html": [
       "<style scoped>\n",
       "  .ansiout {\n",
       "    display: block;\n",
       "    unicode-bidi: embed;\n",
       "    white-space: pre-wrap;\n",
       "    word-wrap: break-word;\n",
       "    word-break: break-all;\n",
       "    font-family: \"Source Code Pro\", \"Menlo\", monospace;;\n",
       "    font-size: 13px;\n",
       "    color: #555;\n",
       "    margin-left: 4px;\n",
       "    line-height: 19px;\n",
       "  }\n",
       "</style>\n",
       "<div class=\"ansiout\">Out[37]: (array([28]),)</div>"
      ]
     },
     "metadata": {
      "application/vnd.databricks.v1+output": {
       "addedWidgets": {},
       "arguments": {},
       "data": "<div class=\"ansiout\">Out[37]: (array([28]),)</div>",
       "datasetInfos": [],
       "metadata": {},
       "removedWidgets": [],
       "type": "html"
      }
     },
     "output_type": "display_data"
    }
   ],
   "source": [
    "ipc_cut"
   ]
  },
  {
   "cell_type": "code",
   "execution_count": 0,
   "metadata": {
    "application/vnd.databricks.v1+cell": {
     "inputWidgets": {},
     "nuid": "72c696cb-1433-4c03-a736-a98e072a539e",
     "showTitle": false,
     "title": ""
    }
   },
   "outputs": [
    {
     "data": {
      "text/html": [
       "<style scoped>\n",
       "  .ansiout {\n",
       "    display: block;\n",
       "    unicode-bidi: embed;\n",
       "    white-space: pre-wrap;\n",
       "    word-wrap: break-word;\n",
       "    word-break: break-all;\n",
       "    font-family: \"Source Code Pro\", \"Menlo\", monospace;;\n",
       "    font-size: 13px;\n",
       "    color: #555;\n",
       "    margin-left: 4px;\n",
       "    line-height: 19px;\n",
       "  }\n",
       "</style>\n",
       "<div class=\"ansiout\"></div>"
      ]
     },
     "metadata": {
      "application/vnd.databricks.v1+output": {
       "addedWidgets": {},
       "arguments": {},
       "data": "<div class=\"ansiout\"></div>",
       "datasetInfos": [],
       "metadata": {},
       "removedWidgets": [],
       "type": "html"
      }
     },
     "output_type": "display_data"
    }
   ],
   "source": [
    "# sélection des path, label et premieres pc\n",
    "final = transformed.withColumn(\"pca\", vector_to_array(\"pca\")).select([\"path\", \"label\"] + [col(\"pca\")[i] for i in range(ipc_cut[0][0])])"
   ]
  },
  {
   "cell_type": "code",
   "execution_count": 0,
   "metadata": {
    "application/vnd.databricks.v1+cell": {
     "inputWidgets": {},
     "nuid": "66bcf04c-d5de-4c55-becb-b565ad47bad7",
     "showTitle": false,
     "title": ""
    }
   },
   "outputs": [
    {
     "data": {
      "text/html": [
       "<style scoped>\n",
       "  .ansiout {\n",
       "    display: block;\n",
       "    unicode-bidi: embed;\n",
       "    white-space: pre-wrap;\n",
       "    word-wrap: break-word;\n",
       "    word-break: break-all;\n",
       "    font-family: \"Source Code Pro\", \"Menlo\", monospace;;\n",
       "    font-size: 13px;\n",
       "    color: #555;\n",
       "    margin-left: 4px;\n",
       "    line-height: 19px;\n",
       "  }\n",
       "</style>\n",
       "<div class=\"ansiout\"></div>"
      ]
     },
     "metadata": {
      "application/vnd.databricks.v1+output": {
       "addedWidgets": {},
       "arguments": {},
       "data": "<div class=\"ansiout\"></div>",
       "datasetInfos": [],
       "metadata": {},
       "removedWidgets": [],
       "type": "html"
      }
     },
     "output_type": "display_data"
    }
   ],
   "source": [
    "# écriture des fichiers dans le S3\n",
    "final.write.mode(\"overwrite\").parquet(\"reduction.parquet\")"
   ]
  },
  {
   "cell_type": "code",
   "execution_count": 0,
   "metadata": {
    "application/vnd.databricks.v1+cell": {
     "inputWidgets": {},
     "nuid": "51265e98-6ad4-4441-bc69-940313878723",
     "showTitle": false,
     "title": ""
    }
   },
   "outputs": [
    {
     "data": {
      "text/html": [
       "<style scoped>\n",
       "  .ansiout {\n",
       "    display: block;\n",
       "    unicode-bidi: embed;\n",
       "    white-space: pre-wrap;\n",
       "    word-wrap: break-word;\n",
       "    word-break: break-all;\n",
       "    font-family: \"Source Code Pro\", \"Menlo\", monospace;;\n",
       "    font-size: 13px;\n",
       "    color: #555;\n",
       "    margin-left: 4px;\n",
       "    line-height: 19px;\n",
       "  }\n",
       "</style>\n",
       "<div class=\"ansiout\">Out[39]: </div>"
      ]
     },
     "metadata": {
      "application/vnd.databricks.v1+output": {
       "addedWidgets": {},
       "arguments": {},
       "data": "<div class=\"ansiout\">Out[39]: </div>",
       "datasetInfos": [],
       "metadata": {},
       "removedWidgets": [],
       "type": "html"
      }
     },
     "output_type": "display_data"
    },
    {
     "data": {
      "text/html": [
       "<div>\n",
       "<style scoped>\n",
       "    .dataframe tbody tr th:only-of-type {\n",
       "        vertical-align: middle;\n",
       "    }\n",
       "\n",
       "    .dataframe tbody tr th {\n",
       "        vertical-align: top;\n",
       "    }\n",
       "\n",
       "    .dataframe thead th {\n",
       "        text-align: right;\n",
       "    }\n",
       "</style>\n",
       "<table border=\"1\" class=\"dataframe\">\n",
       "  <thead>\n",
       "    <tr style=\"text-align: right;\">\n",
       "      <th></th>\n",
       "      <th>path</th>\n",
       "      <th>label</th>\n",
       "      <th>pca[0]</th>\n",
       "      <th>pca[1]</th>\n",
       "      <th>pca[2]</th>\n",
       "      <th>pca[3]</th>\n",
       "      <th>pca[4]</th>\n",
       "      <th>pca[5]</th>\n",
       "      <th>pca[6]</th>\n",
       "      <th>pca[7]</th>\n",
       "      <th>pca[8]</th>\n",
       "      <th>pca[9]</th>\n",
       "      <th>pca[10]</th>\n",
       "      <th>pca[11]</th>\n",
       "      <th>pca[12]</th>\n",
       "      <th>pca[13]</th>\n",
       "      <th>pca[14]</th>\n",
       "      <th>pca[15]</th>\n",
       "      <th>pca[16]</th>\n",
       "      <th>pca[17]</th>\n",
       "      <th>pca[18]</th>\n",
       "      <th>pca[19]</th>\n",
       "      <th>pca[20]</th>\n",
       "      <th>pca[21]</th>\n",
       "      <th>pca[22]</th>\n",
       "      <th>pca[23]</th>\n",
       "      <th>pca[24]</th>\n",
       "      <th>pca[25]</th>\n",
       "      <th>pca[26]</th>\n",
       "      <th>pca[27]</th>\n",
       "    </tr>\n",
       "  </thead>\n",
       "  <tbody>\n",
       "    <tr>\n",
       "      <th>0</th>\n",
       "      <td>dbfs:/mnt/fruit-360/test-compute/apple_hit_1/r...</td>\n",
       "      <td>apple_hit_1</td>\n",
       "      <td>-4.244428</td>\n",
       "      <td>-1.297873</td>\n",
       "      <td>-19.306000</td>\n",
       "      <td>1.027980</td>\n",
       "      <td>-12.189369</td>\n",
       "      <td>28.808328</td>\n",
       "      <td>33.051261</td>\n",
       "      <td>4.241512</td>\n",
       "      <td>65.718174</td>\n",
       "      <td>-20.346723</td>\n",
       "      <td>-12.926818</td>\n",
       "      <td>12.600773</td>\n",
       "      <td>10.726280</td>\n",
       "      <td>13.537684</td>\n",
       "      <td>-63.182794</td>\n",
       "      <td>17.919787</td>\n",
       "      <td>69.851866</td>\n",
       "      <td>13.306892</td>\n",
       "      <td>4.491259</td>\n",
       "      <td>-21.578765</td>\n",
       "      <td>-4.950536</td>\n",
       "      <td>11.870880</td>\n",
       "      <td>14.009452</td>\n",
       "      <td>-28.178817</td>\n",
       "      <td>28.235327</td>\n",
       "      <td>-4.757267</td>\n",
       "      <td>13.596134</td>\n",
       "      <td>-24.964799</td>\n",
       "    </tr>\n",
       "    <tr>\n",
       "      <th>1</th>\n",
       "      <td>dbfs:/mnt/fruit-360/test-compute/apple_hit_1/r...</td>\n",
       "      <td>apple_hit_1</td>\n",
       "      <td>-7.018301</td>\n",
       "      <td>-0.920443</td>\n",
       "      <td>-18.315981</td>\n",
       "      <td>1.381388</td>\n",
       "      <td>-12.419158</td>\n",
       "      <td>26.816941</td>\n",
       "      <td>32.507030</td>\n",
       "      <td>2.377980</td>\n",
       "      <td>62.481883</td>\n",
       "      <td>-16.071861</td>\n",
       "      <td>-12.668102</td>\n",
       "      <td>14.036984</td>\n",
       "      <td>10.910419</td>\n",
       "      <td>12.110568</td>\n",
       "      <td>-55.533819</td>\n",
       "      <td>18.842450</td>\n",
       "      <td>62.320071</td>\n",
       "      <td>9.863960</td>\n",
       "      <td>2.468955</td>\n",
       "      <td>-23.098668</td>\n",
       "      <td>-4.261786</td>\n",
       "      <td>11.004788</td>\n",
       "      <td>14.919112</td>\n",
       "      <td>-26.287162</td>\n",
       "      <td>31.100628</td>\n",
       "      <td>-4.804088</td>\n",
       "      <td>14.505976</td>\n",
       "      <td>-28.283948</td>\n",
       "    </tr>\n",
       "    <tr>\n",
       "      <th>2</th>\n",
       "      <td>dbfs:/mnt/fruit-360/test-compute/apple_hit_1/r...</td>\n",
       "      <td>apple_hit_1</td>\n",
       "      <td>-1.693223</td>\n",
       "      <td>-3.599726</td>\n",
       "      <td>-22.868818</td>\n",
       "      <td>-0.686607</td>\n",
       "      <td>-15.410438</td>\n",
       "      <td>26.981728</td>\n",
       "      <td>33.973652</td>\n",
       "      <td>1.065745</td>\n",
       "      <td>69.836426</td>\n",
       "      <td>-18.650492</td>\n",
       "      <td>-16.401048</td>\n",
       "      <td>19.044008</td>\n",
       "      <td>14.997612</td>\n",
       "      <td>14.152865</td>\n",
       "      <td>-64.210602</td>\n",
       "      <td>24.998482</td>\n",
       "      <td>69.357034</td>\n",
       "      <td>9.929316</td>\n",
       "      <td>5.393910</td>\n",
       "      <td>-26.230093</td>\n",
       "      <td>-2.139088</td>\n",
       "      <td>11.916052</td>\n",
       "      <td>18.734644</td>\n",
       "      <td>-33.314726</td>\n",
       "      <td>32.256622</td>\n",
       "      <td>-2.012242</td>\n",
       "      <td>19.683679</td>\n",
       "      <td>-36.692740</td>\n",
       "    </tr>\n",
       "    <tr>\n",
       "      <th>3</th>\n",
       "      <td>dbfs:/mnt/fruit-360/test-compute/apple_hit_1/r...</td>\n",
       "      <td>apple_hit_1</td>\n",
       "      <td>-6.182198</td>\n",
       "      <td>-1.590132</td>\n",
       "      <td>-16.349514</td>\n",
       "      <td>1.237405</td>\n",
       "      <td>-11.328907</td>\n",
       "      <td>24.901114</td>\n",
       "      <td>30.628064</td>\n",
       "      <td>4.463446</td>\n",
       "      <td>58.449516</td>\n",
       "      <td>-15.328397</td>\n",
       "      <td>-9.752992</td>\n",
       "      <td>14.119545</td>\n",
       "      <td>5.955996</td>\n",
       "      <td>9.052385</td>\n",
       "      <td>-46.039637</td>\n",
       "      <td>12.803706</td>\n",
       "      <td>55.353541</td>\n",
       "      <td>10.548072</td>\n",
       "      <td>-3.253482</td>\n",
       "      <td>-19.452759</td>\n",
       "      <td>-5.032876</td>\n",
       "      <td>9.753706</td>\n",
       "      <td>12.224153</td>\n",
       "      <td>-23.583799</td>\n",
       "      <td>29.677810</td>\n",
       "      <td>-2.058196</td>\n",
       "      <td>13.138348</td>\n",
       "      <td>-23.052202</td>\n",
       "    </tr>\n",
       "    <tr>\n",
       "      <th>4</th>\n",
       "      <td>dbfs:/mnt/fruit-360/test-compute/apple_hit_1/r...</td>\n",
       "      <td>apple_hit_1</td>\n",
       "      <td>-4.675239</td>\n",
       "      <td>-3.264141</td>\n",
       "      <td>-18.014367</td>\n",
       "      <td>3.049207</td>\n",
       "      <td>-16.580817</td>\n",
       "      <td>28.431690</td>\n",
       "      <td>36.584868</td>\n",
       "      <td>11.506236</td>\n",
       "      <td>69.417906</td>\n",
       "      <td>-11.865460</td>\n",
       "      <td>-12.744217</td>\n",
       "      <td>15.198413</td>\n",
       "      <td>8.637235</td>\n",
       "      <td>13.304050</td>\n",
       "      <td>-62.250095</td>\n",
       "      <td>13.321413</td>\n",
       "      <td>73.712128</td>\n",
       "      <td>14.221983</td>\n",
       "      <td>2.847803</td>\n",
       "      <td>-17.779351</td>\n",
       "      <td>-7.483926</td>\n",
       "      <td>12.544003</td>\n",
       "      <td>15.957012</td>\n",
       "      <td>-28.257754</td>\n",
       "      <td>27.994669</td>\n",
       "      <td>0.832953</td>\n",
       "      <td>14.178282</td>\n",
       "      <td>-27.772353</td>\n",
       "    </tr>\n",
       "  </tbody>\n",
       "</table>\n",
       "</div>"
      ]
     },
     "metadata": {
      "application/vnd.databricks.v1+output": {
       "addedWidgets": {},
       "arguments": {},
       "data": "<div>\n<style scoped>\n    .dataframe tbody tr th:only-of-type {\n        vertical-align: middle;\n    }\n\n    .dataframe tbody tr th {\n        vertical-align: top;\n    }\n\n    .dataframe thead th {\n        text-align: right;\n    }\n</style>\n<table border=\"1\" class=\"dataframe\">\n  <thead>\n    <tr style=\"text-align: right;\">\n      <th></th>\n      <th>path</th>\n      <th>label</th>\n      <th>pca[0]</th>\n      <th>pca[1]</th>\n      <th>pca[2]</th>\n      <th>pca[3]</th>\n      <th>pca[4]</th>\n      <th>pca[5]</th>\n      <th>pca[6]</th>\n      <th>pca[7]</th>\n      <th>pca[8]</th>\n      <th>pca[9]</th>\n      <th>pca[10]</th>\n      <th>pca[11]</th>\n      <th>pca[12]</th>\n      <th>pca[13]</th>\n      <th>pca[14]</th>\n      <th>pca[15]</th>\n      <th>pca[16]</th>\n      <th>pca[17]</th>\n      <th>pca[18]</th>\n      <th>pca[19]</th>\n      <th>pca[20]</th>\n      <th>pca[21]</th>\n      <th>pca[22]</th>\n      <th>pca[23]</th>\n      <th>pca[24]</th>\n      <th>pca[25]</th>\n      <th>pca[26]</th>\n      <th>pca[27]</th>\n    </tr>\n  </thead>\n  <tbody>\n    <tr>\n      <th>0</th>\n      <td>dbfs:/mnt/fruit-360/test-compute/apple_hit_1/r...</td>\n      <td>apple_hit_1</td>\n      <td>-4.244428</td>\n      <td>-1.297873</td>\n      <td>-19.306000</td>\n      <td>1.027980</td>\n      <td>-12.189369</td>\n      <td>28.808328</td>\n      <td>33.051261</td>\n      <td>4.241512</td>\n      <td>65.718174</td>\n      <td>-20.346723</td>\n      <td>-12.926818</td>\n      <td>12.600773</td>\n      <td>10.726280</td>\n      <td>13.537684</td>\n      <td>-63.182794</td>\n      <td>17.919787</td>\n      <td>69.851866</td>\n      <td>13.306892</td>\n      <td>4.491259</td>\n      <td>-21.578765</td>\n      <td>-4.950536</td>\n      <td>11.870880</td>\n      <td>14.009452</td>\n      <td>-28.178817</td>\n      <td>28.235327</td>\n      <td>-4.757267</td>\n      <td>13.596134</td>\n      <td>-24.964799</td>\n    </tr>\n    <tr>\n      <th>1</th>\n      <td>dbfs:/mnt/fruit-360/test-compute/apple_hit_1/r...</td>\n      <td>apple_hit_1</td>\n      <td>-7.018301</td>\n      <td>-0.920443</td>\n      <td>-18.315981</td>\n      <td>1.381388</td>\n      <td>-12.419158</td>\n      <td>26.816941</td>\n      <td>32.507030</td>\n      <td>2.377980</td>\n      <td>62.481883</td>\n      <td>-16.071861</td>\n      <td>-12.668102</td>\n      <td>14.036984</td>\n      <td>10.910419</td>\n      <td>12.110568</td>\n      <td>-55.533819</td>\n      <td>18.842450</td>\n      <td>62.320071</td>\n      <td>9.863960</td>\n      <td>2.468955</td>\n      <td>-23.098668</td>\n      <td>-4.261786</td>\n      <td>11.004788</td>\n      <td>14.919112</td>\n      <td>-26.287162</td>\n      <td>31.100628</td>\n      <td>-4.804088</td>\n      <td>14.505976</td>\n      <td>-28.283948</td>\n    </tr>\n    <tr>\n      <th>2</th>\n      <td>dbfs:/mnt/fruit-360/test-compute/apple_hit_1/r...</td>\n      <td>apple_hit_1</td>\n      <td>-1.693223</td>\n      <td>-3.599726</td>\n      <td>-22.868818</td>\n      <td>-0.686607</td>\n      <td>-15.410438</td>\n      <td>26.981728</td>\n      <td>33.973652</td>\n      <td>1.065745</td>\n      <td>69.836426</td>\n      <td>-18.650492</td>\n      <td>-16.401048</td>\n      <td>19.044008</td>\n      <td>14.997612</td>\n      <td>14.152865</td>\n      <td>-64.210602</td>\n      <td>24.998482</td>\n      <td>69.357034</td>\n      <td>9.929316</td>\n      <td>5.393910</td>\n      <td>-26.230093</td>\n      <td>-2.139088</td>\n      <td>11.916052</td>\n      <td>18.734644</td>\n      <td>-33.314726</td>\n      <td>32.256622</td>\n      <td>-2.012242</td>\n      <td>19.683679</td>\n      <td>-36.692740</td>\n    </tr>\n    <tr>\n      <th>3</th>\n      <td>dbfs:/mnt/fruit-360/test-compute/apple_hit_1/r...</td>\n      <td>apple_hit_1</td>\n      <td>-6.182198</td>\n      <td>-1.590132</td>\n      <td>-16.349514</td>\n      <td>1.237405</td>\n      <td>-11.328907</td>\n      <td>24.901114</td>\n      <td>30.628064</td>\n      <td>4.463446</td>\n      <td>58.449516</td>\n      <td>-15.328397</td>\n      <td>-9.752992</td>\n      <td>14.119545</td>\n      <td>5.955996</td>\n      <td>9.052385</td>\n      <td>-46.039637</td>\n      <td>12.803706</td>\n      <td>55.353541</td>\n      <td>10.548072</td>\n      <td>-3.253482</td>\n      <td>-19.452759</td>\n      <td>-5.032876</td>\n      <td>9.753706</td>\n      <td>12.224153</td>\n      <td>-23.583799</td>\n      <td>29.677810</td>\n      <td>-2.058196</td>\n      <td>13.138348</td>\n      <td>-23.052202</td>\n    </tr>\n    <tr>\n      <th>4</th>\n      <td>dbfs:/mnt/fruit-360/test-compute/apple_hit_1/r...</td>\n      <td>apple_hit_1</td>\n      <td>-4.675239</td>\n      <td>-3.264141</td>\n      <td>-18.014367</td>\n      <td>3.049207</td>\n      <td>-16.580817</td>\n      <td>28.431690</td>\n      <td>36.584868</td>\n      <td>11.506236</td>\n      <td>69.417906</td>\n      <td>-11.865460</td>\n      <td>-12.744217</td>\n      <td>15.198413</td>\n      <td>8.637235</td>\n      <td>13.304050</td>\n      <td>-62.250095</td>\n      <td>13.321413</td>\n      <td>73.712128</td>\n      <td>14.221983</td>\n      <td>2.847803</td>\n      <td>-17.779351</td>\n      <td>-7.483926</td>\n      <td>12.544003</td>\n      <td>15.957012</td>\n      <td>-28.257754</td>\n      <td>27.994669</td>\n      <td>0.832953</td>\n      <td>14.178282</td>\n      <td>-27.772353</td>\n    </tr>\n  </tbody>\n</table>\n</div>",
       "datasetInfos": [],
       "metadata": {},
       "removedWidgets": [],
       "textData": null,
       "type": "htmlSandbox"
      }
     },
     "output_type": "display_data"
    }
   ],
   "source": [
    "# conversion dataframe pandas pour visualisation\n",
    "transformed_pandas = final.toPandas()\n",
    "transformed_pandas.head()"
   ]
  },
  {
   "cell_type": "code",
   "execution_count": 0,
   "metadata": {
    "application/vnd.databricks.v1+cell": {
     "inputWidgets": {},
     "nuid": "6f47943d-fc88-49db-9a89-6d3f6df380a7",
     "showTitle": false,
     "title": ""
    }
   },
   "outputs": [
    {
     "data": {
      "text/html": [
       "<style scoped>\n",
       "  .ansiout {\n",
       "    display: block;\n",
       "    unicode-bidi: embed;\n",
       "    white-space: pre-wrap;\n",
       "    word-wrap: break-word;\n",
       "    word-break: break-all;\n",
       "    font-family: \"Source Code Pro\", \"Menlo\", monospace;;\n",
       "    font-size: 13px;\n",
       "    color: #555;\n",
       "    margin-left: 4px;\n",
       "    line-height: 19px;\n",
       "  }\n",
       "</style>\n",
       "<div class=\"ansiout\">Out[41]: (5905, 30)</div>"
      ]
     },
     "metadata": {
      "application/vnd.databricks.v1+output": {
       "addedWidgets": {},
       "arguments": {},
       "data": "<div class=\"ansiout\">Out[41]: (5905, 30)</div>",
       "datasetInfos": [],
       "metadata": {},
       "removedWidgets": [],
       "type": "html"
      }
     },
     "output_type": "display_data"
    }
   ],
   "source": [
    "transformed_pandas.shape"
   ]
  },
  {
   "cell_type": "markdown",
   "metadata": {},
   "source": [
    "## Conclusion\n",
    "\n",
    "Les images de fruits de l'entreprise *Fruits!* ont été compressées (réduction d'un facteur 120) et sont disponibles sur le cloud (espace personnel S3)."
   ]
  }
 ],
 "metadata": {
  "application/vnd.databricks.v1+notebook": {
   "dashboards": [],
   "language": "python",
   "notebookMetadata": {
    "pythonIndentUnit": 4
   },
   "notebookName": "test-s3-access",
   "notebookOrigID": 1794757241437410,
   "widgets": {}
  },
  "kernelspec": {
   "display_name": "Python 3",
   "language": "python",
   "name": "python3"
  },
  "language_info": {
   "codemirror_mode": {
    "name": "ipython",
    "version": 3
   },
   "file_extension": ".py",
   "mimetype": "text/x-python",
   "name": "python",
   "nbconvert_exporter": "python",
   "pygments_lexer": "ipython3",
   "version": "3.8.3"
  }
 },
 "nbformat": 4,
 "nbformat_minor": 1
}
